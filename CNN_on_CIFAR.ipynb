{
  "nbformat": 4,
  "nbformat_minor": 0,
  "metadata": {
    "kernelspec": {
      "display_name": "Python 3",
      "language": "python",
      "name": "python3"
    },
    "language_info": {
      "codemirror_mode": {
        "name": "ipython",
        "version": 3
      },
      "file_extension": ".py",
      "mimetype": "text/x-python",
      "name": "python",
      "nbconvert_exporter": "python",
      "pygments_lexer": "ipython3",
      "version": "3.6.3"
    },
    "colab": {
      "name": "CNN_on_CIFAR.ipynb",
      "provenance": [],
      "collapsed_sections": [],
      "toc_visible": true
    }
  },
  "cells": [
    {
      "cell_type": "markdown",
      "metadata": {
        "id": "ruNPmyABwNlS"
      },
      "source": [
        "# EE-25620: Deep Learning"
      ]
    },
    {
      "cell_type": "markdown",
      "metadata": {
        "id": "LvRffXnC6IFj"
      },
      "source": [
        "**توضیحات**\r\n",
        "\r\n",
        "در این نوتبوک میخواهیم یک شبکه خواسته شده را با تنسورفلوی یک پیاده سازی کنیم.\r\n",
        "\r\n",
        "معماری شبکه را به همان صورتی که در صورت سوال خواسته شده است چیده ام. در قسمت اول باید بر روی دیتاست اول این شبکه را آموزش دهیم. با همین معماری دقت تست من به 55 می رسید که باید طبق صورت سوال بالاتر باشد. با توجه به این من از ترمهای رگولاریزیشن استفاده کردم به صورتی که با ضریب های کوچک حدوداً 0.01 از رگولاریزیشن ال درجه 2 از وزنهای لایه های آخر و یک لایه وسط را به تابع تلف خود اضافه کردم که دقت تست را به حدوداً 62 درصد رساند. هم چنین به نوعی با تنظیم کردن تعداد ایپاک ها از اورفیتینگ جلوگیری کردم چون در ایپاک های بالاتر به سمت اورفیتینگ میرفت.\r\n",
        "\r\n",
        "حال همان وزن ها را فریز کردیم و در قسمت آخر که ترنسفر لرنینگ است استفاده کردم اما به خواسته سوال که دقت 80 درصد بود نرسیدم حتی با اینکه ترکیبی از رنج مختلف ضرایب و هر دو وزن مختلف لایه های مورد یادگیری را برای رگولاریزیشن استفاده کردم، به تغییر خاصی نرسیدم و از آنجا که معماری خواسته شده را فقط باید پیاده سازی میکردیم ایده دیگری غیر از تغییر نوع آپتیمایزرها و یا تغییر لرنینگ ریت نداشتم که آن ها هم به طور کلی تغییر خاصی ایجاد نمیکردند. و در نهایت دقت تست من به حدود 72.5 درصد رسید."
      ]
    },
    {
      "cell_type": "markdown",
      "metadata": {
        "id": "slXaK2c-wNlW"
      },
      "source": [
        " # HW3.CNN on CIFAR (20 + 10 points)"
      ]
    },
    {
      "cell_type": "markdown",
      "metadata": {
        "id": "sBnutoDBwNlf"
      },
      "source": [
        "In this problem, we will train a CNN on CIFAR-10 database. Next, we will go through the network and visualize its layers to see what is happening there. Then, we use the trained model in a Transfer Learning approach to classifying the CIFAR-100 database."
      ]
    },
    {
      "cell_type": "markdown",
      "metadata": {
        "id": "FaG_lspJwNli"
      },
      "source": [
        "Let's start with loading data. First load the data by runing the code below:"
      ]
    },
    {
      "cell_type": "code",
      "metadata": {
        "id": "bxa9IaiF93WY"
      },
      "source": [
        "%tensorflow_version 1.x"
      ],
      "execution_count": null,
      "outputs": []
    },
    {
      "cell_type": "code",
      "metadata": {
        "id": "hqHqgh31wNln"
      },
      "source": [
        "from load_data import load_cifar10 #this function provided in the attached file loads the data of CIFAR10 database\n",
        "\n",
        "def load_cifar10_data():\n",
        "    dataset_dir = 'cifar-10-batches-py'\n",
        "    \n",
        "    X_train, y_train, X_test, y_test = load_cifar10(dataset_dir)\n",
        "    X_train, X_val = X_train[:45000], X_train[45000:]\n",
        "    y_train, y_val = y_train[:45000], y_train[45000:]\n",
        "    \n",
        "    return X_train, y_train, X_val, y_val, X_test, y_test"
      ],
      "execution_count": null,
      "outputs": []
    },
    {
      "cell_type": "code",
      "metadata": {
        "id": "NdwC55CCwNl5",
        "colab": {
          "base_uri": "https://localhost:8080/",
          "height": 384
        },
        "outputId": "a3b424c1-b7f2-47d5-da2f-afcea2f270d2"
      },
      "source": [
        "X_train, y_train, X_val, y_val, X_test, y_test = load_cifar10_data()\n",
        "\n",
        "print('X_train shape:', X_train.shape)\n",
        "print('y_train shape:', y_train.shape)\n",
        "print('X_val shape:', X_val.shape)\n",
        "print('y_val shape:', y_val.shape)\n",
        "print('X_test shape:', X_test.shape)\n",
        "print('y_test shape:', y_test.shape)\n",
        "\n",
        "import matplotlib.pyplot as plt\n",
        "plt.imshow(X_train[1])#represnting a sample data from CIFAR-10\n",
        "plt.show()"
      ],
      "execution_count": null,
      "outputs": [
        {
          "output_type": "stream",
          "text": [
            "Clipping input data to the valid range for imshow with RGB data ([0..1] for floats or [0..255] for integers).\n"
          ],
          "name": "stderr"
        },
        {
          "output_type": "stream",
          "text": [
            "X_train shape: (45000, 32, 32, 3)\n",
            "y_train shape: (45000, 1)\n",
            "X_val shape: (5000, 32, 32, 3)\n",
            "y_val shape: (5000, 1)\n",
            "X_test shape: (10000, 32, 32, 3)\n",
            "y_test shape: (10000, 1)\n"
          ],
          "name": "stdout"
        },
        {
          "output_type": "display_data",
          "data": {
            "image/png": "[encoded data removed]",
            "text/plain": [
              "<Figure size 432x288 with 1 Axes>"
            ]
          },
          "metadata": {
            "tags": [],
            "needs_background": "light"
          }
        }
      ]
    },
    {
      "cell_type": "markdown",
      "metadata": {
        "id": "aEoqTL_HwNmK"
      },
      "source": [
        "By successfully runing the above code, you have loaded the data and also you can see a sample data from CIFAR-10."
      ]
    },
    {
      "cell_type": "markdown",
      "metadata": {
        "id": "rFVsKedowNmM"
      },
      "source": [
        "The below code will convert the labels to one-hot codes which will be later used for the classification."
      ]
    },
    {
      "cell_type": "code",
      "metadata": {
        "id": "J0BonbT0wNmP"
      },
      "source": [
        "import numpy as np\n",
        "\n",
        "from sklearn.preprocessing import OneHotEncoder # this function is used to prepare one-hot encoded labels\n",
        "encoder = OneHotEncoder(sparse=False)\n",
        "\n",
        "encoder.fit(y_train)#this line will fit 'encoder' to encode the labels\n",
        "\n",
        "y_train_onehot = encoder.transform(y_train)# encoding train labels (one-hot coding)\n",
        "y_val_onehot   = encoder.transform(y_val)  # encoding train labels (one-hot coding)\n",
        "y_test_onehot  = encoder.transform(y_test) # encoding test  labels (one-hot coding)"
      ],
      "execution_count": null,
      "outputs": []
    },
    {
      "cell_type": "markdown",
      "metadata": {
        "id": "lspoodjLwNma"
      },
      "source": [
        "The function below is for converting data to several batches which we will use in training."
      ]
    },
    {
      "cell_type": "code",
      "metadata": {
        "id": "qnOXlQ7AwNmf"
      },
      "source": [
        "def make_batches(x, y, batch_size):\n",
        "    n = len(y)\n",
        "    steps = n // batch_size\n",
        "    if n % batch_size != 0:\n",
        "        steps += 1\n",
        "    x_batches = np.array_split(x, steps)\n",
        "    y_batches = np.array_split(y, steps)\n",
        "    return x_batches, y_batches"
      ],
      "execution_count": null,
      "outputs": []
    },
    {
      "cell_type": "markdown",
      "metadata": {
        "id": "vT6nm9pSwNmx"
      },
      "source": [
        "## Part1: Trainig a CNN (15 pts.)"
      ]
    },
    {
      "cell_type": "markdown",
      "metadata": {
        "id": "qj_vXQlIwNmz"
      },
      "source": [
        "In this part, we are going to train a Convolutional Neural Network (CNN) with the below structure:"
      ]
    },
    {
      "cell_type": "markdown",
      "metadata": {
        "id": "0cQKYzjowNm0"
      },
      "source": [
        "1. 16 * conv(5,5), activation function =ReLU\n",
        "2. 16 * conv(5,5), activation function =ReLU\n",
        "3. Max-pooling(3,3), stride=(2,2)\n",
        "4. 32 * conv(5,5), activation function =ReLU\n",
        "5. 32 * conv(5,5), activation function =ReLU\n",
        "6. Max-pooling(3,3), stride=(2,2)\n",
        "7. 64 * conv(5,5), activation function =ReLU\n",
        "8. FC(128), activation function =ReLU\n",
        "9. FC(128), activation function =ReLU\n",
        "10. FC(10), activation function =softmax"
      ]
    },
    {
      "cell_type": "markdown",
      "metadata": {
        "id": "Vclxh0QOwNm2"
      },
      "source": [
        "Let's go to implement the model in the below box. Note that using **tf.layers** is **NOT ALLOWED** in this homework."
      ]
    },
    {
      "cell_type": "code",
      "metadata": {
        "id": "ieNwpEPowNm4"
      },
      "source": [
        "import tensorflow as tf\n",
        "\n",
        "x = tf.placeholder(tf.float32, [None, 32, 32, 3]) # placeholder for input data\n",
        "y = tf.placeholder(tf.float32, [None, 10])# placeholder for labels (one-hot encoded)\n",
        "\n",
        "\n",
        "W_conv1 = tf.Variable(tf.truncated_normal(shape=[5, 5, 3, 16],mean=0,stddev=0.01))\n",
        "B_conv1 = tf.Variable(tf.truncated_normal(shape=[16],mean=0,stddev=0.01))\n",
        "\n",
        "conv1 = tf.nn.conv2d(x, W_conv1, strides=[1, 1, 1, 1], padding='SAME') + B_conv1\n",
        "conv1_relu = tf.nn.relu(conv1)\n",
        "\n",
        "W_conv2 = tf.Variable(tf.truncated_normal(shape=[5, 5, 16, 16],mean=0,stddev=0.01))\n",
        "B_conv2 = tf.Variable(tf.truncated_normal(shape=[16],mean=0,stddev=0.01))\n",
        "\n",
        "conv2 = tf.nn.conv2d(conv1_relu, W_conv2, strides=[1, 1, 1, 1], padding='SAME') + B_conv2\n",
        "conv2_relu = tf.nn.relu(conv2)\n",
        "\n",
        "pooling1 = tf.nn.max_pool(conv2_relu, ksize=[1, 3, 3, 1], strides=[1, 2, 2, 1], padding='SAME')\n",
        "\n",
        "\n",
        "W_conv3 = tf.Variable(tf.truncated_normal(shape=[5, 5, 16, 32],mean=0,stddev=0.01))\n",
        "B_conv3 = tf.Variable(tf.truncated_normal(shape=[32],mean=0,stddev=0.01))\n",
        "\n",
        "conv3 = tf.nn.conv2d(pooling1, W_conv3, strides=[1, 1, 1, 1], padding='SAME') + B_conv3\n",
        "conv3_relu = tf.nn.relu(conv3)\n",
        "\n",
        "W_conv4 = tf.Variable(tf.truncated_normal(shape=[5, 5, 32, 32],mean=0,stddev=0.01))\n",
        "B_conv4 = tf.Variable(tf.truncated_normal(shape=[32],mean=0,stddev=0.01))\n",
        "\n",
        "conv4 = tf.nn.conv2d(conv3_relu, W_conv4, strides=[1, 1, 1, 1], padding='SAME') + B_conv4\n",
        "conv4_relu = tf.nn.relu(conv4)\n",
        "\n",
        "pooling2 = tf.nn.max_pool(conv4_relu, ksize=[1, 3, 3, 1], strides=[1, 2, 2, 1], padding='SAME')\n",
        "\n",
        "W_conv5 = tf.Variable(tf.truncated_normal(shape=[5, 5, 32, 64],mean=0,stddev=0.01))\n",
        "B_conv5 = tf.Variable(tf.truncated_normal(shape=[64],mean=0,stddev=0.01))\n",
        "\n",
        "conv5 = tf.nn.conv2d(pooling2, W_conv5, strides=[1, 1, 1, 1], padding='SAME') + B_conv5\n",
        "conv5_relu = tf.nn.relu(conv5)\n",
        "\n",
        "layer_flat = tf.reshape(conv5_relu, [-1, 8*8*64])\n",
        "\n",
        "W_hidden1 = tf.Variable(tf.truncated_normal(shape=[64*64,128],mean=0,stddev=0.01))\n",
        "B_hidden1 = tf.Variable(tf.truncated_normal(shape=[128],mean=0,stddev=0.01))\n",
        "\n",
        "hidden1 = tf.nn.relu(tf.matmul(layer_flat, W_hidden1) + B_hidden1)\n",
        "\n",
        "W_hidden2 = tf.Variable(tf.truncated_normal(shape=[128,128],mean=0,stddev=0.01))\n",
        "B_hidden2 = tf.Variable(tf.truncated_normal(shape=[128],mean=0,stddev=0.01))\n",
        "\n",
        "hidden2 = tf.nn.relu(tf.matmul(hidden1, W_hidden2) + B_hidden2)\n",
        "\n",
        "W_final = tf.Variable(tf.truncated_normal(shape=[128,10],mean=0,stddev=0.01))\n",
        "B_final = tf.Variable(tf.truncated_normal(shape=[10],mean=0,stddev=0.01))\n",
        "\n",
        "#logits = tf.contrib.layers.fully_connected(inputs=hidden2, num_outputs=10, activation_fn=None)\n",
        "logits = tf.matmul(hidden2, W_final) + B_final\n",
        "y_hat = tf.nn.softmax(logits)\n"
      ],
      "execution_count": null,
      "outputs": []
    },
    {
      "cell_type": "markdown",
      "metadata": {
        "id": "C0sa7Vq0wNnD"
      },
      "source": [
        "Now you need to define an optimizer. You are free to use any optimizer. You can change optimizer or learning rate if you want :)"
      ]
    },
    {
      "cell_type": "code",
      "metadata": {
        "id": "0_DW15PowNnF"
      },
      "source": [
        "############ Cross entropy loss ############################\n",
        "regularizer = 0.01*(tf.nn.l2_loss(W_final)) + 0.005*(tf.nn.l2_loss(W_hidden2)) + 0.01*(tf.nn.l2_loss(W_hidden1)) + 0.002*(tf.nn.l2_loss(W_conv3)) \n",
        "cross_entropy = tf.reduce_mean(tf.nn.softmax_cross_entropy_with_logits_v2(logits=logits, labels=y)) + regularizer\n",
        "# Note: logits in the above line is the last layer values (a 10-neuron layer) before the softmax activation function. \n",
        "#       In other words, you may have written y_hat = tf.nn.softmax(logits) in the above box in which y_hat is tُhe output\n",
        "#       of the network.\n",
        "############ Adam optimizer ################################\n",
        "lr = 0.0001 # learning rate\n",
        "optimizer = tf.train.AdamOptimizer(learning_rate=lr)\n",
        "trainer = optimizer.minimize(cross_entropy)\n",
        "\n",
        "############################################################\n",
        "#            TODO: Implement Accuracy                      #\n",
        "############################################################\n",
        "\n",
        "correct_pred = tf.equal(tf.argmax(logits, 1), tf.argmax(y, 1))\n",
        "accuracy = tf.reduce_mean(tf.cast(correct_pred, tf.float32), name='accuracy')\n",
        "# Note: The defined accuray does not play any role in the optimization process. However, it is a mtric which we can \n",
        "#       use as a log for mintoring training process with more metrics rather than a single loss function.\n",
        "############################################################"
      ],
      "execution_count": null,
      "outputs": []
    },
    {
      "cell_type": "markdown",
      "metadata": {
        "id": "nGi4LigBwNnP"
      },
      "source": [
        "You can go for the rest of the job, handle the Session and go for training. \n",
        "You can use tensorboard or the code provided in the next box to plot for loss and accuracy of training and validation data.\n",
        "You are expected to achieve at least 60% accuracy on the test data after the training process. Good Luck! ;)"
      ]
    },
    {
      "cell_type": "code",
      "metadata": {
        "id": "_xQWnoDvwNnR",
        "colab": {
          "base_uri": "https://localhost:8080/"
        },
        "outputId": "d4059c74-52ce-41b4-faf9-08b4d10b37c5"
      },
      "source": [
        "########## Training ##########\n",
        "batch_size = 64 # You are free to change it\n",
        "x_train_batches, y_train_batches = make_batches(X_train, y_train_onehot, batch_size)\n",
        "epochs = 16  # You are free to change it\n",
        "N_Batches = len(x_train_batches)\n",
        "\n",
        "train_acc  = np.zeros(epochs)\n",
        "train_loss = np.zeros(epochs)\n",
        "val_acc  = np.zeros(epochs)\n",
        "val_loss = np.zeros(epochs)\n",
        "\n",
        "#sess = tf.Session() \n",
        "with tf.Session() as sess:\n",
        "  sess.run(tf.global_variables_initializer())\n",
        "\n",
        "  for epoch in range(epochs):\n",
        "        print(\"*\" * 10, \"Epoch %3i\"%epoch, \"*\" * 10)\n",
        "\n",
        "        batch_acc = np.zeros(N_Batches)\n",
        "        batch_loss = np.zeros(N_Batches)\n",
        "        for n in range(N_Batches):\n",
        "            _, batch_acc[n], batch_loss[n] = sess.run([trainer, accuracy, cross_entropy],{x: x_train_batches[n], y: y_train_batches[n]})\n",
        "            #print(\"Batch %3d/%d: Acc:%0.4f , Loss:%0.4f\"%(n, N_Batches, batch_acc[n], batch_loss[n]))\n",
        "\n",
        "        train_acc[epoch] = np.mean(batch_acc)\n",
        "        train_loss[epoch] = np.mean(batch_loss)\n",
        "        print(\"Train:\\t\\tAccuracy= %0.4f \\tLoss= %0.4f\"%(train_acc[epoch], train_loss[epoch]))\n",
        "\n",
        "        ########## Validation ##########\n",
        "        val_acc[epoch], val_loss[epoch] = sess.run([accuracy, cross_entropy],\n",
        "                                                   {x: X_val, y: y_val_onehot})\n",
        "        print(\"Validation:\\tAccuracy= %0.4f \\tLoss= %0.4f\"%(val_acc[epoch], val_loss[epoch]))\n",
        "      \n",
        "  test_acc, test_loss = sess.run([accuracy, cross_entropy],\n",
        "                                    {x: X_test, y: y_test_onehot})\n",
        "  tfSaver = tf.train.Saver()\n",
        "  tfSaver.save(sess, \"my_session/\")\n",
        "  sess.close()\n",
        "    \n",
        "print(\"Test:\\tAccuracy= %0.4f \\tLoss= %0.4f\"%(test_acc, test_loss))\n",
        "\n",
        "############################################################"
      ],
      "execution_count": null,
      "outputs": [
        {
          "output_type": "stream",
          "text": [
            "********** Epoch   0 **********\n",
            "Train:\t\tAccuracy= 0.2447 \tLoss= 2.0473\n",
            "Validation:\tAccuracy= 0.2876 \tLoss= 1.8998\n",
            "********** Epoch   1 **********\n",
            "Train:\t\tAccuracy= 0.3361 \tLoss= 1.8095\n",
            "Validation:\tAccuracy= 0.3434 \tLoss= 1.7568\n",
            "********** Epoch   2 **********\n",
            "Train:\t\tAccuracy= 0.3835 \tLoss= 1.6815\n",
            "Validation:\tAccuracy= 0.4034 \tLoss= 1.6400\n",
            "********** Epoch   3 **********\n",
            "Train:\t\tAccuracy= 0.4334 \tLoss= 1.5653\n",
            "Validation:\tAccuracy= 0.4664 \tLoss= 1.4978\n",
            "********** Epoch   4 **********\n",
            "Train:\t\tAccuracy= 0.4701 \tLoss= 1.4802\n",
            "Validation:\tAccuracy= 0.4898 \tLoss= 1.4331\n",
            "********** Epoch   5 **********\n",
            "Train:\t\tAccuracy= 0.4949 \tLoss= 1.4196\n",
            "Validation:\tAccuracy= 0.5098 \tLoss= 1.3788\n",
            "********** Epoch   6 **********\n",
            "Train:\t\tAccuracy= 0.5173 \tLoss= 1.3688\n",
            "Validation:\tAccuracy= 0.5304 \tLoss= 1.3408\n",
            "********** Epoch   7 **********\n",
            "Train:\t\tAccuracy= 0.5364 \tLoss= 1.3228\n",
            "Validation:\tAccuracy= 0.5508 \tLoss= 1.3032\n",
            "********** Epoch   8 **********\n",
            "Train:\t\tAccuracy= 0.5580 \tLoss= 1.2775\n",
            "Validation:\tAccuracy= 0.5596 \tLoss= 1.2676\n",
            "********** Epoch   9 **********\n",
            "Train:\t\tAccuracy= 0.5764 \tLoss= 1.2322\n",
            "Validation:\tAccuracy= 0.5776 \tLoss= 1.2414\n",
            "********** Epoch  10 **********\n",
            "Train:\t\tAccuracy= 0.5974 \tLoss= 1.1860\n",
            "Validation:\tAccuracy= 0.5856 \tLoss= 1.2101\n",
            "********** Epoch  11 **********\n",
            "Train:\t\tAccuracy= 0.6158 \tLoss= 1.1418\n",
            "Validation:\tAccuracy= 0.6014 \tLoss= 1.1867\n",
            "********** Epoch  12 **********\n",
            "Train:\t\tAccuracy= 0.6329 \tLoss= 1.0980\n",
            "Validation:\tAccuracy= 0.6120 \tLoss= 1.1664\n",
            "********** Epoch  13 **********\n",
            "Train:\t\tAccuracy= 0.6524 \tLoss= 1.0566\n",
            "Validation:\tAccuracy= 0.6212 \tLoss= 1.1584\n",
            "********** Epoch  14 **********\n",
            "Train:\t\tAccuracy= 0.6668 \tLoss= 1.0196\n",
            "Validation:\tAccuracy= 0.6242 \tLoss= 1.1675\n",
            "********** Epoch  15 **********\n",
            "Train:\t\tAccuracy= 0.6815 \tLoss= 0.9818\n",
            "Validation:\tAccuracy= 0.6244 \tLoss= 1.1711\n",
            "Test:\tAccuracy= 0.6134 \tLoss= 1.1954\n"
          ],
          "name": "stdout"
        }
      ]
    },
    {
      "cell_type": "markdown",
      "metadata": {
        "id": "cY2Xy-T-wNnY"
      },
      "source": [
        "### Training Diagram"
      ]
    },
    {
      "cell_type": "code",
      "metadata": {
        "id": "YPhA7yJZwNnb",
        "colab": {
          "base_uri": "https://localhost:8080/",
          "height": 573
        },
        "outputId": "8977f997-cdbf-4fdc-c7ac-b177ee47829f"
      },
      "source": [
        "########## Plot metrics #########################\n",
        "fig = plt.figure()\n",
        "plt.plot(range(epochs), train_acc, label='Train')\n",
        "plt.plot(range(epochs), val_acc, label='Validation')\n",
        "plt.title(\"Training and Validation Accuracy\")\n",
        "plt.xlabel(\"epoch\")\n",
        "plt.ylabel(\"Accuracy\")\n",
        "plt.grid(True)\n",
        "plt.legend(loc=0)\n",
        "plt.show()\n",
        "\n",
        "fig = plt.figure()\n",
        "plt.plot(range(epochs), train_loss, label='Train')\n",
        "plt.plot(range(epochs), val_loss, label='Validation')\n",
        "plt.title(\"Training and Validation Loss\")\n",
        "plt.xlabel(\"epoch\")\n",
        "plt.ylabel(\"Cross entropy\")\n",
        "plt.grid(True)\n",
        "plt.legend(loc=0)\n",
        "plt.show()"
      ],
      "execution_count": null,
      "outputs": [
        {
          "output_type": "display_data",
          "data": {
            "image/png": "[encoded data removed]",
            "text/plain": [
              "<Figure size 432x288 with 1 Axes>"
            ]
          },
          "metadata": {
            "tags": [],
            "needs_background": "light"
          }
        },
        {
          "output_type": "display_data",
          "data": {
            "image/png": "[encoded data removed]",
            "text/plain": [
              "<Figure size 432x288 with 1 Axes>"
            ]
          },
          "metadata": {
            "tags": [],
            "needs_background": "light"
          }
        }
      ]
    },
    {
      "cell_type": "markdown",
      "metadata": {
        "id": "YcSWtBZ4wNnk"
      },
      "source": [
        "## Part2: Visualizing the Network (5 pts.)"
      ]
    },
    {
      "cell_type": "markdown",
      "metadata": {
        "id": "_CD6vEwAwNnm"
      },
      "source": [
        "Now, we want to check the weights to see how the network realy works and what it does. Consider the wieghts of the first convolutional layer, find its weights values and print the values of 2 arbitrary filters:"
      ]
    },
    {
      "cell_type": "code",
      "metadata": {
        "id": "5PKw60njwNno",
        "colab": {
          "base_uri": "https://localhost:8080/"
        },
        "outputId": "128e125c-dd87-4ebf-b726-e9c1cece698f"
      },
      "source": [
        "##########################################################################\n",
        "# TODO                                                                   #\n",
        "# Note: To retrieve the values of the weight-variables from TensorFlow,  #\n",
        "#       feed-dict is not necessary because                               #\n",
        "#       nothing is calculated.                                           #\n",
        "#       e.g., w = sess.run(weights)                                      #\n",
        "##########################################################################\n",
        "\n",
        "sess = tf.InteractiveSession()\n",
        "\n",
        "# then write the saved session on 'sess'\n",
        "tfSaver.restore(sess, \"my_session/\")\n",
        "\n",
        "w = sess.run(W_conv1)\n",
        "\n",
        "print(w[:,:,0,0])\n",
        "print(w[:,:,0,10]) \n",
        "##########################################################################"
      ],
      "execution_count": null,
      "outputs": [
        {
          "output_type": "stream",
          "text": [
            "INFO:tensorflow:Restoring parameters from my_session/\n"
          ],
          "name": "stdout"
        },
        {
          "output_type": "stream",
          "text": [
            "/tensorflow-1.15.2/python3.6/tensorflow_core/python/client/session.py:1750: UserWarning: An interactive session is already active. This can cause out-of-memory errors in some cases. You must explicitly call `InteractiveSession.close()` to release resources held by the other session(s).\n",
            "  warnings.warn('An interactive session is already active. This can '\n"
          ],
          "name": "stderr"
        },
        {
          "output_type": "stream",
          "text": [
            "[[ 0.01147486  0.00759288  0.01183594 -0.01042215 -0.00817614]\n",
            " [ 0.00420677  0.02449917  0.00897912  0.00386233 -0.01210316]\n",
            " [ 0.00630507  0.02833628  0.0162365   0.01834138  0.00331085]\n",
            " [-0.00387044 -0.00762618  0.00730176  0.00043215  0.00665383]\n",
            " [-0.00289328 -0.00212481 -0.02659025 -0.02397149 -0.01154133]]\n",
            "[[ 0.0209308  -0.00759886 -0.02555302 -0.02476566 -0.01550448]\n",
            " [ 0.01402337  0.00863983 -0.01449464  0.00265243  0.00423913]\n",
            " [-0.01449327  0.02352502  0.02973162  0.04073063  0.00724797]\n",
            " [ 0.00226317  0.01471876  0.03761893  0.04645034  0.02162037]\n",
            " [-0.00161988  0.00453825 -0.00785589  0.01444353  0.02527639]]\n"
          ],
          "name": "stdout"
        }
      ]
    },
    {
      "cell_type": "markdown",
      "metadata": {
        "id": "nSLbR5Q1wNn0"
      },
      "source": [
        "### Question: Try to interpret what they are doing?"
      ]
    },
    {
      "cell_type": "markdown",
      "metadata": {
        "id": "6h85uRFMwNn1"
      },
      "source": [
        "### Answer: "
      ]
    },
    {
      "cell_type": "markdown",
      "metadata": {
        "id": "8RcGEiiywNn3"
      },
      "source": [
        "در اینجا مقادیر وزن های یادگیری شده را پرینت کردیم برای دو فیلتر مختلف در دو کانال مختلف،\r\n",
        "\r\n",
        "مثلا در قسمت اولی از لبه های پایین به صورت تفاضلی نمونه برداری شده است و بقیه مقادیر در اکثر جاها کم است\r\n",
        "\r\n",
        "یا در فیلتر بعدی این مقادیر برای بالای سمت راست بیشتر هستند.\r\n",
        "\r\n",
        "به طور کلی فیلترهای مختلف از لبه های مختلف نمونه برداری میکنند."
      ]
    },
    {
      "cell_type": "markdown",
      "metadata": {
        "id": "1F5plv_9wNn5"
      },
      "source": [
        "Now let's visualize the filters of the first conv layer. There are lots of ways to code for visualization. You are free to choose any way you want. However below is function which is provided for you to plot the weights."
      ]
    },
    {
      "cell_type": "code",
      "metadata": {
        "id": "priYSH0CwNn8",
        "colab": {
          "base_uri": "https://localhost:8080/",
          "height": 722
        },
        "outputId": "31a92b1b-d725-4e72-9720-0401ca88979c"
      },
      "source": [
        "import math\n",
        "def plot_conv_weights(w, input_channel=0):\n",
        "    # The argument w is a 4-dim array.(e.g. weights_conv1 with the shape of [5,5,3,64])\n",
        "    # The argument input_channel shows the specified channel of all filters.\n",
        "    \n",
        "    # Get the lowest and highest values for the weights.\n",
        "    # This is used to correct the colour intensity across\n",
        "    # the images so they can be compared with each other.\n",
        "    w_min = np.min(w)\n",
        "    w_max = np.max(w)\n",
        "    abs_max = max(abs(w_min), abs(w_max))\n",
        "\n",
        "    # Number of filters used in the conv. layer.\n",
        "    num_filters = w.shape[3]\n",
        "\n",
        "    # Number of grids to plot.\n",
        "    # Rounded-up, square-root of the number of filters.\n",
        "    num_grids = math.ceil(math.sqrt(num_filters))\n",
        "    \n",
        "    # Create figure with a grid of sub-plots.\n",
        "    fig, axes = plt.subplots(num_grids, num_grids)\n",
        "\n",
        "    # Plot all the filter-weights.\n",
        "    for i, ax in enumerate(axes.flat):\n",
        "        # Only plot the valid filter-weights.\n",
        "        if i<num_filters:\n",
        "            # Get the weights for the i'th filter of the input channel.\n",
        "            # The format of this 4-dim tensor is determined by the\n",
        "            # TensorFlow API. See Tutorial #02 for more details.\n",
        "            img = w[:, :, input_channel, i]\n",
        "\n",
        "            # Plot image.\n",
        "            ax.imshow(img, vmin=-abs_max, vmax=abs_max,\n",
        "                      interpolation='nearest', cmap='gray')\n",
        "        \n",
        "        # Remove ticks from the plot.\n",
        "        ax.set_xticks([])\n",
        "        ax.set_yticks([])\n",
        "    \n",
        "    # Ensure the plot is shown correctly with multiple plots\n",
        "    # in a single Notebook cell.\n",
        "    plt.show()\n",
        "\n",
        "    \n",
        "##########################################################################\n",
        "# TODO: call the function above or use your own way here                 #\n",
        "##########################################################################\n",
        "plot_conv_weights(w,0)\n",
        "plot_conv_weights(w,1)\n",
        "plot_conv_weights(w,2)\n",
        "\n",
        "##########################################################################\n"
      ],
      "execution_count": null,
      "outputs": [
        {
          "output_type": "display_data",
          "data": {
            "image/png": "[encoded data removed]",
            "text/plain": [
              "<Figure size 432x288 with 16 Axes>"
            ]
          },
          "metadata": {
            "tags": []
          }
        },
        {
          "output_type": "display_data",
          "data": {
            "image/png": "[encoded data removed]",
            "text/plain": [
              "<Figure size 432x288 with 16 Axes>"
            ]
          },
          "metadata": {
            "tags": []
          }
        },
        {
          "output_type": "display_data",
          "data": {
            "image/png": "[encoded data removed]",
            "text/plain": [
              "<Figure size 432x288 with 16 Axes>"
            ]
          },
          "metadata": {
            "tags": []
          }
        }
      ]
    },
    {
      "cell_type": "markdown",
      "metadata": {
        "id": "G6LJu4qlwNoG"
      },
      "source": [
        "### Question: Try to interpret what they are doing?"
      ]
    },
    {
      "cell_type": "markdown",
      "metadata": {
        "id": "WfjpQ2IEwNoK"
      },
      "source": [
        "### Answer: "
      ]
    },
    {
      "cell_type": "markdown",
      "metadata": {
        "id": "GOLl7wOXwNoO"
      },
      "source": [
        "در اینجا نیز کرنل های 5 در 5 هر سه کانال که 16 تا هستند را به تصویر کشیده ام، همانطور که در قسمت قبل گفتم، هر یک از این فیلترها از لبه های مختلفی نمونه بردای میکنند که با رنگ سیاهتر مشخص است."
      ]
    },
    {
      "cell_type": "markdown",
      "metadata": {
        "id": "KQ9mr6m4wNoO"
      },
      "source": [
        "## Part3: Transfer Learning (+10 pts. - optional)"
      ]
    },
    {
      "cell_type": "markdown",
      "metadata": {
        "id": "hI4qprZWwNoP"
      },
      "source": [
        "In all the machine learning problems we need data to train our models. However, the volume of the data might not be sufficient for the considered model. In such cases, we may use a model which is trained on a similar dataset probably for a different objective. Then we transfer to the main problem and fine- tune or replace some parts of the network. "
      ]
    },
    {
      "cell_type": "markdown",
      "metadata": {
        "id": "ngn_5xKiwNoW"
      },
      "source": [
        "In this exercise, we are going to implement the transfer learning concept on CNN. For this purpose, we use the network that you have trained on Part 1 of this homework (above) to classify three new classes (i.e. bee, elephant, and fox) on CIFAR-100 dataset. Let's first load the data:"
      ]
    },
    {
      "cell_type": "code",
      "metadata": {
        "id": "GpInK4wUwNoY"
      },
      "source": [
        "from load_data import load_cifar100 #this function provided in the attached file loads the data of CIFAR100 database\n",
        "\n",
        "def load_cifar100_data():\n",
        "    dataset_dir = 'cifar-100-python'\n",
        "    \n",
        "    X_train, y_train, X_test, y_test = load_cifar100(dataset_dir)\n",
        "    \n",
        "    return X_train, y_train, X_test, y_test"
      ],
      "execution_count": null,
      "outputs": []
    },
    {
      "cell_type": "code",
      "metadata": {
        "id": "y99GcOb2wNoo",
        "colab": {
          "base_uri": "https://localhost:8080/",
          "height": 350
        },
        "outputId": "547cedd2-c950-40f9-df68-ffd6c2388183"
      },
      "source": [
        "X_train, y_train, X_test, y_test = load_cifar100_data()\n",
        "\n",
        "print('X_train shape:', X_train.shape)\n",
        "print('y_train shape:', y_train.shape)\n",
        "print('X_test shape:', X_test.shape)\n",
        "print('y_test shape:', y_test.shape)\n",
        "\n",
        "import matplotlib.pyplot as plt\n",
        "plt.imshow(X_train[1])#represnting a sample data from CIFAR-100\n",
        "plt.show()"
      ],
      "execution_count": null,
      "outputs": [
        {
          "output_type": "stream",
          "text": [
            "Clipping input data to the valid range for imshow with RGB data ([0..1] for floats or [0..255] for integers).\n"
          ],
          "name": "stderr"
        },
        {
          "output_type": "stream",
          "text": [
            "X_train shape: (50000, 32, 32, 3)\n",
            "y_train shape: (50000, 1)\n",
            "X_test shape: (10000, 32, 32, 3)\n",
            "y_test shape: (10000, 1)\n"
          ],
          "name": "stdout"
        },
        {
          "output_type": "display_data",
          "data": {
            "image/png": "[encoded data removed]",
            "text/plain": [
              "<Figure size 432x288 with 1 Axes>"
            ]
          },
          "metadata": {
            "tags": [],
            "needs_background": "light"
          }
        }
      ]
    },
    {
      "cell_type": "markdown",
      "metadata": {
        "id": "JoycoB9GwNov"
      },
      "source": [
        "By successfully runing the above code, you have loaded the data and also you can see a sample data from CIFAR-100. The below code will seprate the specified classes (i.e. bee(6), elephant(31), and fox(34)) for the new classification problem."
      ]
    },
    {
      "cell_type": "code",
      "metadata": {
        "id": "bhIVSCujwNox"
      },
      "source": [
        "selected_images_train = np.zeros([1,32,32,3])\n",
        "selected_labels_train = np.zeros([1,1])\n",
        "for i in range(50000):\n",
        "    label = y_train[i]\n",
        "    if label==6 or label==31 or label==34:\n",
        "        selected_images_train = np.append(selected_images_train,np.reshape(X_train[i,:,:,:],[1,32,32,3]),axis=0)\n",
        "        selected_labels_train = np.append(selected_labels_train,np.reshape(label,[1,1]),axis=0)\n",
        "selected_images_train = selected_images_train[1:]# to remove the first defined np..zeros data\n",
        "selected_labels_train = selected_labels_train[1:]# to remove the first defined np..zeros data\n",
        "\n",
        "\n",
        "selected_images_test = np.zeros([1,32,32,3])\n",
        "selected_labels_test = np.zeros([1,1])\n",
        "for i in range(10000):\n",
        "    label = y_test[i]\n",
        "    if label==6 or label==31 or label==34:\n",
        "        selected_images_test = np.append(selected_images_test,np.reshape(X_test[i,:,:,:],[1,32,32,3]),axis=0)\n",
        "        selected_labels_test = np.append(selected_labels_test,np.reshape(label,[1,1]),axis=0)\n",
        "selected_images_test = selected_images_test[1:]# to remove the first defined np..zeros data\n",
        "selected_labels_test = selected_labels_test[1:]# to remove the first defined np..zeros data"
      ],
      "execution_count": null,
      "outputs": []
    },
    {
      "cell_type": "code",
      "metadata": {
        "id": "s0mSOnFcwNo9",
        "colab": {
          "base_uri": "https://localhost:8080/"
        },
        "outputId": "ee17df92-85bc-40e5-b702-937879b7bd0a"
      },
      "source": [
        "images_train = selected_images_train[:int(selected_images_train.shape[0]*0.8),:,:,:]\n",
        "labels_train = selected_labels_train[:int(selected_images_train.shape[0]*0.8),:]\n",
        "\n",
        "images_validation = selected_images_train[int(selected_images_train.shape[0]*0.8):,:,:,:]\n",
        "labels_validation = selected_labels_train[int(selected_images_train.shape[0]*0.8):,:]\n",
        "\n",
        "images_test = selected_images_test\n",
        "labels_test = selected_labels_test\n",
        "\n",
        "\n",
        "print('images_train shape:', images_train.shape)\n",
        "print('labels_train shape:', labels_train.shape)\n",
        "\n",
        "print('images_validation shape:', images_validation.shape)\n",
        "print('labels_validation shape:', labels_validation.shape)\n",
        "\n",
        "print('images_test shape:', images_test.shape)\n",
        "print('labels_test shape:', labels_test.shape)"
      ],
      "execution_count": null,
      "outputs": [
        {
          "output_type": "stream",
          "text": [
            "images_train shape: (1200, 32, 32, 3)\n",
            "labels_train shape: (1200, 1)\n",
            "images_validation shape: (300, 32, 32, 3)\n",
            "labels_validation shape: (300, 1)\n",
            "images_test shape: (300, 32, 32, 3)\n",
            "labels_test shape: (300, 1)\n"
          ],
          "name": "stdout"
        }
      ]
    },
    {
      "cell_type": "code",
      "metadata": {
        "id": "E8egfyjNwNpD"
      },
      "source": [
        "import numpy as np\n",
        "\n",
        "from sklearn.preprocessing import OneHotEncoder # this function is used to prepare one-hot encoded labels\n",
        "encoder = OneHotEncoder(sparse=False)\n",
        "\n",
        "encoder.fit(selected_labels_train)#this line will fit 'encoder' to encode the labels\n",
        "\n",
        "labels_train_onehot = encoder.transform(labels_train)# encoding train labels (one-hot coding)\n",
        "labels_val_onehot   = encoder.transform(labels_validation)  # encoding train labels (one-hot coding)\n",
        "labels_test_onehot  = encoder.transform(labels_test) # encoding test  labels (one-hot coding)"
      ],
      "execution_count": null,
      "outputs": []
    },
    {
      "cell_type": "markdown",
      "metadata": {
        "id": "_eLHY2PJwNpS"
      },
      "source": [
        "To implement the transfer learning, we need to use the previous model and transfer it to the new problem. For this end, you need to freeze the convolution layers and also the first fully connected layer which means that they should not be updated in the new training process. For the last two fully connected layers, we want to fine-tune the values. However, you should replace the last layer (output layer) with a 3-neuron layer to represent the score for each class."
      ]
    },
    {
      "cell_type": "markdown",
      "metadata": {
        "id": "CWPBi-VxwNpU"
      },
      "source": [
        "There are several methods that you can implement the discussed process with TensorFlow. You are free to do any way you want.\n",
        "The below code redefine the network and use the weights of the network trained on CIFAR-10. Then, the frozen weights can be defined as either constant or non-trainable variables. Besides, the fine-tuning weights are also defined as variables with their previous weights in the definition. Anyway, since there are other ways to implement this job, you can do it with your own method."
      ]
    },
    {
      "cell_type": "code",
      "metadata": {
        "id": "QMrb7EyGwNpV"
      },
      "source": [
        "############################################################\n",
        "#            TODO: Implement Accuracy Part                 #\n",
        "############################################################\n",
        "\n",
        "# get the weights form previous network:\n",
        "# e.g., w_conv1_CIFAR10 = sess.run(W_conv1)\n",
        "w1 = sess.run(W_conv1)\n",
        "b1 = sess.run(B_conv1)\n",
        "\n",
        "w2 = sess.run(W_conv2)\n",
        "b2 = sess.run(B_conv2)\n",
        "\n",
        "w3 = sess.run(W_conv3)\n",
        "b3 = sess.run(B_conv3)\n",
        "\n",
        "w4 = sess.run(W_conv4)\n",
        "b4 = sess.run(B_conv4)\n",
        "\n",
        "w5 = sess.run(W_conv5)\n",
        "b5 = sess.run(B_conv5)\n",
        "\n",
        "wh1 = sess.run(W_hidden1)\n",
        "bh1 = sess.run(B_hidden1)\n",
        "\n",
        "\n",
        "tf.reset_default_graph()\n",
        "\n",
        "x = tf.placeholder(tf.float32, [None, 32, 32, 3]) # placeholder for input data\n",
        "y_new = tf.placeholder(tf.float32, [None, 3])# placeholder for labels (one-hot encoded)\n",
        "\n",
        "# Re-define the convolutional layers\n",
        "\n",
        "conv1 = tf.nn.conv2d(x, w1, strides=[1, 1, 1, 1], padding='SAME') + b1\n",
        "conv1_relu = tf.nn.relu(conv1)\n",
        "\n",
        "conv2 = tf.nn.conv2d(conv1_relu, w2, strides=[1, 1, 1, 1], padding='SAME') + b2\n",
        "conv2_relu = tf.nn.relu(conv2)\n",
        "\n",
        "pooling1 = tf.nn.max_pool(conv2_relu, ksize=[1, 3, 3, 1], strides=[1, 2, 2, 1], padding='SAME')\n",
        "\n",
        "conv3 = tf.nn.conv2d(pooling1, w3, strides=[1, 1, 1, 1], padding='SAME') + b3\n",
        "conv3_relu = tf.nn.relu(conv3)\n",
        "\n",
        "conv4 = tf.nn.conv2d(conv3_relu, w4, strides=[1, 1, 1, 1], padding='SAME') + b4\n",
        "conv4_relu = tf.nn.relu(conv4)\n",
        "\n",
        "pooling2 = tf.nn.max_pool(conv4_relu, ksize=[1, 3, 3, 1], strides=[1, 2, 2, 1], padding='SAME')\n",
        "\n",
        "conv5 = tf.nn.conv2d(pooling2, w5, strides=[1, 1, 1, 1], padding='SAME') + b5\n",
        "conv5_relu = tf.nn.relu(conv5)\n",
        "\n",
        "layer_flat = tf.reshape(conv5_relu, [-1, 8*8*64])\n",
        "\n",
        "hidden1 = tf.nn.relu(tf.matmul(layer_flat, wh1) + bh1)\n",
        "\n",
        "# Define weights for the second FC layer (fc1 is already defined in the previous model)\n",
        "W_fc2_new = tf.Variable(tf.truncated_normal(shape=[128,128],mean=0,stddev=0.01))\n",
        "B_fc2_new = tf.Variable(tf.truncated_normal(shape=[128],mean=0,stddev=0.01))\n",
        "# Define based on the first fully connected layer.\n",
        "fc2_new = tf.nn.relu(tf.matmul(hidden1, W_fc2_new) + B_fc2_new)\n",
        "#fc2_new = tf.nn.dropout(fc2_new,0.02)\n",
        "\n",
        "\n",
        "W_fc3_new = tf.Variable(tf.truncated_normal(shape=[128,3],mean=0,stddev=0.01))\n",
        "B_fc3_new = tf.Variable(tf.truncated_normal(shape=[3],mean=0,stddev=0.01))\n",
        "# Define based on the second fully connected layer (fc2_new).\n",
        "logit = tf.matmul(fc2_new, W_fc3_new) + B_fc3_new\n",
        "\n",
        "y_hat = tf.nn.softmax(logit)\n",
        "\n",
        "\n"
      ],
      "execution_count": null,
      "outputs": []
    },
    {
      "cell_type": "markdown",
      "metadata": {
        "id": "eH2_ztPAwNpb"
      },
      "source": [
        "Now, go for the rest of the job and start training:"
      ]
    },
    {
      "cell_type": "code",
      "metadata": {
        "id": "IpTeXoq3wNpc",
        "colab": {
          "base_uri": "https://localhost:8080/"
        },
        "outputId": "1bde82aa-013d-4a11-95e1-c99f551b0bc1"
      },
      "source": [
        "########## Training ##########\n",
        "batch_size = 64 # You are free to change it\n",
        "x_train_batches, y_train_batches = make_batches(images_train, labels_train_onehot, batch_size)\n",
        "epochs = 20  # You are free to change it\n",
        "N_Batches = len(x_train_batches)\n",
        "\n",
        "train_acc  = np.zeros(epochs)\n",
        "train_loss = np.zeros(epochs)\n",
        "val_acc  = np.zeros(epochs)\n",
        "val_loss = np.zeros(epochs)\n",
        "\n",
        "regularizer = 0.01*(tf.nn.l2_loss(W_fc3_new))+0.015*(tf.nn.l2_loss(W_fc2_new))\n",
        "new_cross_entropy = tf.reduce_mean(tf.nn.softmax_cross_entropy_with_logits_v2(logits=logit, labels=y_new)) + regularizer\n",
        "\n",
        "lr = 1e-4\n",
        "  #AdagradDAOptimizer\n",
        "new_optimizer = tf.train.AdamOptimizer(learning_rate=lr)\n",
        "  #new_optimizer = tf.train.FtrlOptimizer(learning_rate=lr,l1_regularization_strength=0.01, l2_regularization_strength=0.009)\n",
        "new_trainer = new_optimizer.minimize(new_cross_entropy)\n",
        "\n",
        "correct_preds = tf.equal(tf.argmax(logit, 1), tf.argmax(y_new, 1))\n",
        "new_accuracy  = tf.reduce_mean(tf.cast(correct_preds, tf.float32), name='accuracy')\n",
        "with tf.Session() as sess:\n",
        "      sess.run(tf.global_variables_initializer())\n",
        "      for epoch in range(epochs):\n",
        "          print()\n",
        "          print(\"*\" * 10, \"Epoch %3i\"%epoch, \"*\" * 10)\n",
        "\n",
        "          batch_acc = np.zeros(N_Batches)\n",
        "          batch_loss = np.zeros(N_Batches)\n",
        "          for n in range(N_Batches):\n",
        "\n",
        "              _, batch_acc[n], batch_loss[n] = sess.run([new_trainer, new_accuracy, new_cross_entropy],\n",
        "                                                        {x: x_train_batches[n], y_new: y_train_batches[n]})\n",
        "              #print(\"Batch %3d/%d: Acc:%0.4f , Loss:%0.4f\"%(n, N_Batches, batch_acc[n], batch_loss[n]))\n",
        "\n",
        "          train_acc[epoch] = np.mean(batch_acc)\n",
        "          train_loss[epoch] = np.mean(batch_loss)\n",
        "          print(\"Train:\\t\\tAccuracy= %0.4f \\tLoss= %0.4f\"%(train_acc[epoch], train_loss[epoch]))\n",
        "\n",
        "          ########## Validation ##########\n",
        "          val_acc[epoch], val_loss[epoch] = sess.run([new_accuracy, new_cross_entropy],\n",
        "                                                    {x: images_validation, y_new: labels_val_onehot})\n",
        "          print(\"Validation:\\tAccuracy= %0.4f \\tLoss= %0.4f\"%(val_acc[epoch], val_loss[epoch]))\n",
        "      test_acc, test_loss = sess.run([new_accuracy, new_cross_entropy],\n",
        "                              {x: images_test, y_new: labels_test_onehot})\n",
        "print(\"Test:\\tAccuracy= %0.4f \\tLoss= %0.4f\"%(test_acc, test_loss))\n",
        "############################################################"
      ],
      "execution_count": null,
      "outputs": [
        {
          "output_type": "stream",
          "text": [
            "\n",
            "********** Epoch   0 **********\n",
            "Train:\t\tAccuracy= 0.4570 \tLoss= 1.0841\n",
            "Validation:\tAccuracy= 0.6267 \tLoss= 1.0385\n",
            "\n",
            "********** Epoch   1 **********\n",
            "Train:\t\tAccuracy= 0.6159 \tLoss= 1.0097\n",
            "Validation:\tAccuracy= 0.6600 \tLoss= 0.9612\n",
            "\n",
            "********** Epoch   2 **********\n",
            "Train:\t\tAccuracy= 0.6393 \tLoss= 0.9379\n",
            "Validation:\tAccuracy= 0.6867 \tLoss= 0.8831\n",
            "\n",
            "********** Epoch   3 **********\n",
            "Train:\t\tAccuracy= 0.6509 \tLoss= 0.8695\n",
            "Validation:\tAccuracy= 0.6933 \tLoss= 0.8186\n",
            "\n",
            "********** Epoch   4 **********\n",
            "Train:\t\tAccuracy= 0.6618 \tLoss= 0.8180\n",
            "Validation:\tAccuracy= 0.6867 \tLoss= 0.7748\n",
            "\n",
            "********** Epoch   5 **********\n",
            "Train:\t\tAccuracy= 0.6693 \tLoss= 0.7815\n",
            "Validation:\tAccuracy= 0.6867 \tLoss= 0.7471\n",
            "\n",
            "********** Epoch   6 **********\n",
            "Train:\t\tAccuracy= 0.6876 \tLoss= 0.7554\n",
            "Validation:\tAccuracy= 0.6867 \tLoss= 0.7297\n",
            "\n",
            "********** Epoch   7 **********\n",
            "Train:\t\tAccuracy= 0.6951 \tLoss= 0.7355\n",
            "Validation:\tAccuracy= 0.6933 \tLoss= 0.7181\n",
            "\n",
            "********** Epoch   8 **********\n",
            "Train:\t\tAccuracy= 0.6985 \tLoss= 0.7193\n",
            "Validation:\tAccuracy= 0.7000 \tLoss= 0.7100\n",
            "\n",
            "********** Epoch   9 **********\n",
            "Train:\t\tAccuracy= 0.7043 \tLoss= 0.7057\n",
            "Validation:\tAccuracy= 0.6967 \tLoss= 0.7042\n",
            "\n",
            "********** Epoch  10 **********\n",
            "Train:\t\tAccuracy= 0.7060 \tLoss= 0.6939\n",
            "Validation:\tAccuracy= 0.6967 \tLoss= 0.6998\n",
            "\n",
            "********** Epoch  11 **********\n",
            "Train:\t\tAccuracy= 0.7109 \tLoss= 0.6835\n",
            "Validation:\tAccuracy= 0.6967 \tLoss= 0.6966\n",
            "\n",
            "********** Epoch  12 **********\n",
            "Train:\t\tAccuracy= 0.7142 \tLoss= 0.6740\n",
            "Validation:\tAccuracy= 0.6967 \tLoss= 0.6944\n",
            "\n",
            "********** Epoch  13 **********\n",
            "Train:\t\tAccuracy= 0.7192 \tLoss= 0.6653\n",
            "Validation:\tAccuracy= 0.6967 \tLoss= 0.6930\n",
            "\n",
            "********** Epoch  14 **********\n",
            "Train:\t\tAccuracy= 0.7225 \tLoss= 0.6572\n",
            "Validation:\tAccuracy= 0.7033 \tLoss= 0.6919\n",
            "\n",
            "********** Epoch  15 **********\n",
            "Train:\t\tAccuracy= 0.7267 \tLoss= 0.6496\n",
            "Validation:\tAccuracy= 0.7100 \tLoss= 0.6915\n",
            "\n",
            "********** Epoch  16 **********\n",
            "Train:\t\tAccuracy= 0.7309 \tLoss= 0.6425\n",
            "Validation:\tAccuracy= 0.7133 \tLoss= 0.6911\n",
            "\n",
            "********** Epoch  17 **********\n",
            "Train:\t\tAccuracy= 0.7384 \tLoss= 0.6356\n",
            "Validation:\tAccuracy= 0.7167 \tLoss= 0.6913\n",
            "\n",
            "********** Epoch  18 **********\n",
            "Train:\t\tAccuracy= 0.7434 \tLoss= 0.6289\n",
            "Validation:\tAccuracy= 0.7133 \tLoss= 0.6917\n",
            "\n",
            "********** Epoch  19 **********\n",
            "Train:\t\tAccuracy= 0.7459 \tLoss= 0.6224\n",
            "Validation:\tAccuracy= 0.7167 \tLoss= 0.6920\n",
            "Test:\tAccuracy= 0.7233 \tLoss= 0.6983\n"
          ],
          "name": "stdout"
        }
      ]
    },
    {
      "cell_type": "markdown",
      "metadata": {
        "id": "20qg-TgTwNpt"
      },
      "source": [
        "You can use tensorboard or the code provided in the next box to plot for loss and accuracy of training and validation data. You are expected to achieve at least 80% accuracy on the test data after training. Good Luck! ;)"
      ]
    },
    {
      "cell_type": "markdown",
      "metadata": {
        "id": "OEWgypXhwNpv"
      },
      "source": [
        "### Training Diagram"
      ]
    },
    {
      "cell_type": "code",
      "metadata": {
        "id": "zVq_NQTfwNpx",
        "colab": {
          "base_uri": "https://localhost:8080/",
          "height": 573
        },
        "outputId": "1342ad96-da25-4be1-b168-aa5858c6b566"
      },
      "source": [
        "########## Plot metrics #########################\n",
        "fig = plt.figure()\n",
        "plt.plot(range(epochs), train_acc, label='Train')\n",
        "plt.plot(range(epochs), val_acc, label='Validation')\n",
        "plt.title(\"Training and Validation Accuracy\")\n",
        "plt.xlabel(\"epoch\")\n",
        "plt.ylabel(\"Accuracy\")\n",
        "plt.grid(True)\n",
        "plt.legend(loc=0)\n",
        "plt.show()\n",
        "\n",
        "fig = plt.figure()\n",
        "plt.plot(range(epochs), train_loss, label='Train')\n",
        "plt.plot(range(epochs), val_loss, label='Validation')\n",
        "plt.title(\"Training and Validation Loss\")\n",
        "plt.xlabel(\"epoch\")\n",
        "plt.ylabel(\"Cross entropy\")\n",
        "plt.grid(True)\n",
        "plt.legend(loc=0)\n",
        "plt.show()"
      ],
      "execution_count": null,
      "outputs": [
        {
          "output_type": "display_data",
          "data": {
            "image/png": "[encoded data removed]",
            "text/plain": [
              "<Figure size 432x288 with 1 Axes>"
            ]
          },
          "metadata": {
            "tags": [],
            "needs_background": "light"
          }
        },
        {
          "output_type": "display_data",
          "data": {
            "image/png": "[encoded data removed]",
            "text/plain": [
              "<Figure size 432x288 with 1 Axes>"
            ]
          },
          "metadata": {
            "tags": [],
            "needs_background": "light"
          }
        }
      ]
    }
  ]
}
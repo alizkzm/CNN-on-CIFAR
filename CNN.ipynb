{
  "nbformat": 4,
  "nbformat_minor": 0,
  "metadata": {
    "colab": {
      "name": "CNN.ipynb",
      "provenance": [],
      "collapsed_sections": []
    },
    "kernelspec": {
      "display_name": "Python 3",
      "language": "python",
      "name": "python3"
    }
  },
  "cells": [
    {
      "cell_type": "markdown",
      "metadata": {
        "id": "drDKyoDznPMP"
      },
      "source": [
        "# EE-25620: Deep Learning"
      ]
    },
    {
      "cell_type": "markdown",
      "metadata": {
        "id": "PwNpC5conPMS"
      },
      "source": [
        "# HW3. NumPy Based CNN block (20 + 10 points)"
      ]
    },
    {
      "cell_type": "markdown",
      "metadata": {
        "id": "Nud1FqU0nPMX"
      },
      "source": [
        "##   Outline of the Assignment\n",
        "\n",
        "You will be implementing the building blocks of a convolutional neural network\n",
        "\n",
        "1. **`zero padding`**\n",
        "\n",
        "2. **`convolution : Forward`**\n",
        "\n",
        "3. **`convolution : Backwrd`**\n",
        "\n",
        "4. **`Max pooling`**\n",
        "\n",
        "5. **`Batch Normalization in CNN `**\n",
        "\n",
        "\n",
        "    \n",
        "This notebook will ask you to implement these functions from scratch in **`Numpy`**.\n",
        "\n",
        "\n",
        "**Note** that for every forward function, there is its corresponding backward equivalent. "
      ]
    },
    {
      "cell_type": "markdown",
      "metadata": {
        "id": "GTfTn33I5UOv"
      },
      "source": [
        "**توضیحات**\r\n",
        "\r\n",
        "در این نوت بوک میخواهیم یک سری از توابعی که برای شبکه های کانولوشنالی نیاز است را با استفاده از کتابخانه نامپای پیاده سازی کنیم. "
      ]
    },
    {
      "cell_type": "code",
      "metadata": {
        "id": "ZdngsWVf-1-d"
      },
      "source": [
        "%tensorflow_version 1.x"
      ],
      "execution_count": null,
      "outputs": []
    },
    {
      "cell_type": "code",
      "metadata": {
        "id": "mlGba2SdnPMZ"
      },
      "source": [
        "import tensorflow as tf\n",
        "import numpy as np\n",
        "import matplotlib.pyplot as plt"
      ],
      "execution_count": null,
      "outputs": []
    },
    {
      "cell_type": "markdown",
      "metadata": {
        "id": "NVLBNfwjnPMh"
      },
      "source": [
        "## 1. Zero Padding (2 pts.)"
      ]
    },
    {
      "cell_type": "markdown",
      "metadata": {
        "id": "uIofak2KnPMk"
      },
      "source": [
        "Zero-padding adds zeros around the border of an image:\n",
        "\n",
        "**Exercise**  : Implement the following function, which pads all the images of a batch of examples X with zeros."
      ]
    },
    {
      "cell_type": "markdown",
      "metadata": {
        "id": "3Xac07WonPMn"
      },
      "source": [
        "shape of X and its zero pad array is :\n",
        "\n",
        "\n",
        "$$ X : (N, C, i_h, i_w)   $$\n",
        "$$  \\text{zeropad}(X) : (N, C, i_h + 2*ph, i_w + 2*pw)$$"
      ]
    },
    {
      "cell_type": "markdown",
      "metadata": {
        "id": "xYa5kwC7nPMp"
      },
      "source": [
        "**Note** : you should not use np.pad in your implementation"
      ]
    },
    {
      "cell_type": "code",
      "metadata": {
        "id": "-2rbQl4enPMr"
      },
      "source": [
        "def zero_padding(X, padding):\n",
        "    \"\"\"\n",
        "    Pad with zeros all images of the dataset X. The padding is applied to the height and width of an image.\n",
        "\n",
        "    input :\n",
        "      - X :  numpy array of shape (N, C, IH, IW) representing a batch of N images\n",
        "      - padding : a tuple of 2 integer (ph, pw), amount of padding around each image on vertical and horizontal dimensions\n",
        "    return :\n",
        "      - zero_pad : zero pad array of shape (N, C, IH + 2*ph, IW + 2*pw)\n",
        "    \n",
        "    \"\"\"\n",
        "  \n",
        "    zero_pad = None\n",
        "    ###########################################################################\n",
        "    # Hint: you should not use the function np.pad for padding.                     \n",
        "    ###########################################################################\n",
        "    pass\n",
        "\n",
        "    [N,C,ih,iw] = X.shape\n",
        "    zero_pad = np.zeros((N,C,ih+2*padding[0],iw+2*padding[1]))\n",
        "    zero_pad[:, :, padding[0]:padding[0]+ih, padding[1]:padding[1]+iw] = X\n",
        "    \n",
        "    ###########################################################################\n",
        "    #                             END OF YOUR CODE                            #\n",
        "    ###########################################################################\n",
        "    \n",
        "    return zero_pad\n",
        "    \n",
        "    \n",
        "    "
      ],
      "execution_count": null,
      "outputs": []
    },
    {
      "cell_type": "code",
      "metadata": {
        "id": "bOvCLShTnPMy",
        "colab": {
          "base_uri": "https://localhost:8080/",
          "height": 322
        },
        "outputId": "414421db-8b2d-4091-bd2d-50fb31404edc"
      },
      "source": [
        "#test zero_padding function\n",
        "np.random.seed(1968)\n",
        "\n",
        "x = np.random.rand(2, 3 ,4, 4)\n",
        "padding = (3, 2)\n",
        "x_pad = zero_padding(x, padding)\n",
        "\n",
        "assert x_pad.shape==(x.shape[0], x.shape[1], x.shape[2] + 2*padding[0], x.shape[3] + 2*padding[1])\n",
        "assert np.all(x_pad[:, :, padding[0]:padding[0]+x.shape[2], padding[1]:padding[1]+x.shape[3]]==x)\n",
        "\n",
        "print(\"your implementation is correct\")\n",
        "print(\"shape of x is :\", x.shape)\n",
        "print(\"shape of x_pad is :\", x_pad.shape)\n",
        "\n",
        "fig, axarr = plt.subplots(1, 2)\n",
        "axarr[0].set_title('x')\n",
        "axarr[0].imshow(x[0, 0, :, :])\n",
        "axarr[1].set_title('x_pad')\n",
        "axarr[1].imshow(x_pad[0, 0, :, :])"
      ],
      "execution_count": null,
      "outputs": [
        {
          "output_type": "stream",
          "text": [
            "your implementation is correct\n",
            "shape of x is : (2, 3, 4, 4)\n",
            "shape of x_pad is : (2, 3, 10, 8)\n"
          ],
          "name": "stdout"
        },
        {
          "output_type": "execute_result",
          "data": {
            "text/plain": [
              "<matplotlib.image.AxesImage at 0x7f4bf63da9e8>"
            ]
          },
          "metadata": {
            "tags": []
          },
          "execution_count": 23
        },
        {
          "output_type": "display_data",
          "data": {
            "image/png": "[encoded data removed]",
            "text/plain": [
              "<Figure size 432x288 with 2 Axes>"
            ]
          },
          "metadata": {
            "tags": [],
            "needs_background": "light"
          }
        }
      ]
    },
    {
      "cell_type": "markdown",
      "metadata": {
        "id": "yaLgNcJonPM5"
      },
      "source": [
        "## 2.convolution : Forward (4 pts.)"
      ]
    },
    {
      "cell_type": "markdown",
      "metadata": {
        "id": "iSHkDYrfnPM7"
      },
      "source": [
        "In this Exercise, you implement convolutional neural networks using the NumPy library only.\n",
        "\n",
        "The input X,W are the input of the convolutional layer and the shape of X,W are $(N, C, i_h, i_w)$ , $(F, C, f_h, f_w)$ respectively and The return  value O is the output of the convolutional layer and the shape is $(N, F, O_h, O_w)$ where :\n",
        "\n",
        "$$\\text{stride} : (s_h,s_w)$$\n",
        "\n",
        "$$\\text{padding} : (p_h,p_w)$$\n",
        "\n",
        "$$O_w =\\lfloor \\frac{i_w - f_w + 2*p_w}{s_w} \\rfloor + 1$$\n",
        "\n",
        "$$O_h = \\lfloor\\frac{i_h - f_h + 2*p_h}{s_h}\\rfloor + 1$$\n",
        "$$O(b,f, i ,j)=\\sum_{r=0}^{C-1}\\sum_{k=0}^{f_h-1}\\sum_{l=0}^{f_w-1} W(f,r,k,l) X(b,r,s_h *i +k, s_w  *j +l)$$"
      ]
    },
    {
      "cell_type": "code",
      "metadata": {
        "id": "rc6Tt8EGnPM9"
      },
      "source": [
        "def convolution2D(X, W, stride, padding):\n",
        "    \"\"\"\n",
        "    A implementation of the forward pass for a convolutional layer.\n",
        "    \n",
        "    The input consists of N data points, each with C channels, height IH and\n",
        "    width IW .We convolve each input with F different filters, where each filter\n",
        "    spans all C channels and has height FH and width FW.\n",
        "    \n",
        "    \n",
        "    inputs:\n",
        "     - X : input data of shape (N, C, IH, IW)\n",
        "     - W : Filter weight of shape (F, C, FH, FW)\n",
        "     - stride : a tuple of 2 integer (sh, sw)\n",
        "     - padding :a tuple of 2 integer (ph, pw)\n",
        "     \n",
        "    return:\n",
        "     - out : Output data, of shape (N, F, OH, OW) where OH and OW given by\n",
        "     \n",
        "     OH= 1 + int ( (IH + 2*ph - FH)/ sh )\n",
        "     OW= 1 + int ( (IW + 2*pw - FW)/ sw )\n",
        "    \n",
        "    \"\"\"\n",
        "    \n",
        "    out = None\n",
        "    ###########################################################################\n",
        "    # Implement the convolutional forward pass.                               #\n",
        "    ###########################################################################\n",
        "    pass\n",
        "\n",
        "    [N,C,ih,iw] = X.shape\n",
        "    [F,C,fh,fw] = W.shape \n",
        "    ph = padding[0]\n",
        "    pw = padding[1]\n",
        "    sh = stride[0]\n",
        "    sw = stride[1]\n",
        "    Oh= 1 + int ((ih + 2*ph - fh)/sh)\n",
        "    Ow= 1 + int ((iw + 2*pw - fw)/sw)\n",
        "    out = np.zeros((N,F,Oh,Ow))\n",
        "\n",
        "    x_pad = zero_padding(X, padding)\n",
        "\n",
        "    for b in range(N):\n",
        "      for f in range(F):\n",
        "        for i in range(0,ih,sh):\n",
        "          for j in range(0,iw,sw):\n",
        "            out[b][f][int(i/sh)][int(j/sw)] = np.sum(x_pad[b,:,i:i+fh,j:j+fw]*W[f,:,:,:])\n",
        "\n",
        "    ###########################################################################\n",
        "    #                             END OF YOUR CODE                            #\n",
        "    ###########################################################################\n",
        "    return out\n",
        "    \n",
        "    \n",
        "\n",
        "\n",
        "\n"
      ],
      "execution_count": null,
      "outputs": []
    },
    {
      "cell_type": "markdown",
      "metadata": {
        "id": "kuqhD5E8nPNJ"
      },
      "source": [
        "To test your implementation, we will compare the results  with tensorflow function"
      ]
    },
    {
      "cell_type": "code",
      "metadata": {
        "id": "_Ran5YbunPNM",
        "colab": {
          "base_uri": "https://localhost:8080/"
        },
        "outputId": "1c9796bd-0a36-419c-d540-04bc6df264ca"
      },
      "source": [
        "np.random.seed(1973)\n",
        "param1 = {'X':np.random.rand(2, 3, 23, 20), 'W':np.random.rand(7, 3, 6, 6), 'stride':(3, 6), 'padding':(2, 3)}\n",
        "x_tf = np.pad(param1['X'], ((0, 0), (0, 0), (2, 2), (3, 3)), 'constant', constant_values=0)\n",
        "\n",
        "\n",
        "conv_numpy = convolution2D(**param1)\n",
        "conv = tf.nn.conv2d(tf.transpose(x_tf, [0 ,2, 3, 1]), tf.transpose(param1['W'], (2, 3, 1, 0)), [1, 3, 6, 1], 'VALID')\n",
        "conv = tf.transpose(conv, (0, 3, 1, 2))\n",
        "\n",
        "with tf.Session() as sess:\n",
        "    conv = sess.run(conv)\n",
        "\n",
        "assert conv.shape==conv_numpy.shape\n",
        "print(\"Error :\", (np.sum(conv - conv_numpy)**2))\n",
        "print(\"output shape :\", conv_numpy.shape)\n"
      ],
      "execution_count": null,
      "outputs": [
        {
          "output_type": "stream",
          "text": [
            "Error : 2.4435755400126062e-26\n",
            "output shape : (2, 7, 8, 4)\n"
          ],
          "name": "stdout"
        }
      ]
    },
    {
      "cell_type": "markdown",
      "metadata": {
        "id": "Yam8Y2x8nPNe"
      },
      "source": [
        "** Expected Output: **\n",
        "<table>\n",
        "    <tr>\n",
        "        <td>\n",
        "            **out shape**\n",
        "        </td>\n",
        "        <td>\n",
        "            (2, 7, 8, 4)\n",
        "        </td>\n",
        "    </tr>\n",
        "    <tr>\n",
        "        <td>\n",
        "            **ERROR**\n",
        "        </td>\n",
        "        <td>\n",
        "            2.5559093329160782e-28\n",
        "       </td>\n",
        "    </tr>\n",
        "    \n",
        "</table>\n"
      ]
    },
    {
      "cell_type": "markdown",
      "metadata": {
        "id": "fRFXIZfwnPNg"
      },
      "source": [
        "## 3.convolution : Backward"
      ]
    },
    {
      "cell_type": "markdown",
      "metadata": {
        "id": "aEf-K0MKnPNi"
      },
      "source": [
        "### 3.1 - Backward  w.r.t. filter (4 pts.)"
      ]
    },
    {
      "cell_type": "markdown",
      "metadata": {
        "id": "1guVkIsfnPNk"
      },
      "source": [
        "This is the formula for computing a $\\frac{\\partial L}{\\partial W}$ for a single $W(f^\\prime,c^\\prime,k^\\prime ,l^\\prime )$ that $W$ is 4-D array as a filter in convolution operation with shape $(F,C,f_h,f_w)$ "
      ]
    },
    {
      "cell_type": "markdown",
      "metadata": {
        "id": "LmJRQzNRnPNm"
      },
      "source": [
        "$$\\frac{\\partial L}{\\partial W(f^\\prime,c^\\prime,k^\\prime ,l^\\prime )} = \\sum_{b=0}^{N-1}\\left (\\sum_{i=0}^{O_h-1}\\sum_{j=0}^{O_w-1} \\frac{\\partial L}{\\partial O(b,f^\\prime,i,j)} \\frac{\\partial O(i,j)}{\\partial W(f^\\prime,c^\\prime,k^\\prime ,l^\\prime )}\\right ) = \\sum_{b=0}^{N-1}\\left (\\sum_{i=0}^{O_w-1}\\sum_{j=0}^{O_h-1} \\frac{\\partial L}{\\partial O(b,f^\\prime,i,j)}  X(b,c^\\prime, s_h*i +k^\\prime, s_w*j +l^\\prime) \\right )$$\n"
      ]
    },
    {
      "cell_type": "code",
      "metadata": {
        "id": "g2g-PgNmnPNo"
      },
      "source": [
        "def convolution2D_backward_filter(out_grad, X, W, stride):\n",
        "    \"\"\"\n",
        "    A implementation of the backward pass for a convolutional layer.\n",
        "    \n",
        "    inputs:\n",
        "     - out_grad  : gradient of the Loss with respect to the output of the conv layer with shape (N, F, OW, OH)\n",
        "     - X : input data of shape (N, C, IH, IW)\n",
        "     - W : Filter weight of shape (F, C, FH, FW)\n",
        "     - stride : a list of [sh, sw]\n",
        "     \n",
        "    return:\n",
        "     - dW : Gradient with respect to W\n",
        "    \n",
        "    \"\"\"\n",
        "    dW = None\n",
        "    ###########################################################################\n",
        "    # Implement the convolutional backward pass.                              #\n",
        "    ###########################################################################\n",
        "    pass\n",
        "\n",
        "    [N,C,ih,iw] = X.shape\n",
        "    [F,C,fh,fw] = W.shape\n",
        "    [N,F,Oh,Ow] = out_grad.shape\n",
        "\n",
        "    sh = stride[0]\n",
        "    sw = stride[1]\n",
        "\n",
        "    dW = np.zeros(W.shape)\n",
        "\n",
        "    for b in range(N):\n",
        "      for f in range(F):\n",
        "        for i in range(Oh):\n",
        "          for j in range(Ow):\n",
        "            dW[f][:][:][:] += out_grad[b,f,i,j]*X[b,:,i*sh:i*sh+fh,j*sw:j*sw+fw]\n",
        "    ###########################################################################\n",
        "    #                             END OF YOUR CODE                            #\n",
        "    ###########################################################################\n",
        "    \n",
        "    return dW\n",
        "    \n",
        "    "
      ],
      "execution_count": null,
      "outputs": []
    },
    {
      "cell_type": "code",
      "metadata": {
        "id": "N5GrLdnlnPNu",
        "colab": {
          "base_uri": "https://localhost:8080/"
        },
        "outputId": "608352dc-e0b0-4603-ad10-176353ebca58"
      },
      "source": [
        "np.random.seed(1345)\n",
        "\n",
        "param = {'X':np.random.rand(2, 3, 10,10), 'W':np.random.rand(7, 3, 4, 4), 'stride':(2, 2)}\n",
        "c_1 = np.ones((2, 7, 4, 4))   \n",
        "dw = convolution2D_backward_filter(c_1, **param)\n",
        "\n",
        "\n",
        "\n",
        "w = tf.Variable(tf.transpose(param['W'],(2, 3, 1, 0)),name='v')\n",
        "c = tf.nn.conv2d(tf.transpose(param['X'],[0, 2, 3, 1]), w, [1, 2, 2, 1], 'VALID')\n",
        "loss = tf.reduce_sum(c)\n",
        "dw_tf = tf.gradients(loss, w)\n",
        "with tf.Session() as sess:\n",
        "    sess.run(tf.global_variables_initializer())\n",
        "    dw_tf = sess.run(dw_tf)\n",
        "\n",
        "\n",
        "\n",
        "dw = np.transpose(dw, (2, 3 ,1, 0))\n",
        "print(\"Error  :\", np.sum((dw-dw_tf[0])**2))\n",
        "print(\"dW_tf  :\", np.sum(dw_tf[0]))\n",
        "print(\"dW  :\", np.sum(dw))"
      ],
      "execution_count": null,
      "outputs": [
        {
          "output_type": "stream",
          "text": [
            "Error  : 2.5811528818831506e-27\n",
            "dW_tf  : 5340.576411697173\n",
            "dW  : 5340.576411697173\n"
          ],
          "name": "stdout"
        }
      ]
    },
    {
      "cell_type": "markdown",
      "metadata": {
        "id": "FzXtSW_InPN0"
      },
      "source": [
        "** Expected Output: **\n",
        "<table>\n",
        "    <tr>\n",
        "        <td>\n",
        "            **dW_tf**\n",
        "        </td>\n",
        "        <td>\n",
        "            5340.576411697173\n",
        "        </td>\n",
        "    </tr>\n",
        "    <tr>\n",
        "        <td>\n",
        "            **dW**\n",
        "        </td>\n",
        "        <td>\n",
        "            5340.576411697173\n",
        "        </td>\n",
        "    </tr>\n",
        "    <tr>\n",
        "        <td>\n",
        "            **Error**\n",
        "        </td>\n",
        "        <td>\n",
        "            2.473867798773093e-27\n",
        " </td>\n",
        "    </tr>\n",
        "\n",
        "</table>\n"
      ]
    },
    {
      "cell_type": "markdown",
      "metadata": {
        "id": "nxyz9o2GnPN3"
      },
      "source": [
        "### 3.2 - Backward  w.r.t. input (4 pts.)"
      ]
    },
    {
      "cell_type": "markdown",
      "metadata": {
        "id": "H7P5oyWXnPN5"
      },
      "source": [
        "This is the formula for computing a $\\frac{\\partial L}{\\partial X}$ for a single $X(b^\\prime,c^\\prime,k^\\prime ,l^\\prime )$ that $X$ is 4-D array as a input in convolution operation with shape $(N,C,i_h,i_w)$ "
      ]
    },
    {
      "cell_type": "markdown",
      "metadata": {
        "id": "nLGji2fKnPN7"
      },
      "source": [
        "$$\\frac{\\partial L}{\\partial X(b^\\prime,c^\\prime,k^\\prime ,l^\\prime )} = \\sum_{f=0}^{F-1}\\left (\\sum_{i=0}^{O_h-1}\\sum_{j=0}^{O_w-1} \\frac{\\partial L}{\\partial O(b^\\prime,f,i,j)} \\frac{\\partial O(b^\\prime,f,i,j)}{\\partial X(b^\\prime,c^\\prime,k^\\prime ,l^\\prime )}\\right ) = \\sum_{f=0}^{F-1}\\left (\\sum_{i=0}^{O_h-1}\\sum_{j=0}^{O_w-1} \\frac{\\partial L}{\\partial O(b^\\prime,f,i,j)} W(f,c^\\prime,k^\\prime - s_h*i, l^\\prime - s_w*j) \\right )$$\n"
      ]
    },
    {
      "cell_type": "code",
      "metadata": {
        "id": "k9-Ez6OQnPN-"
      },
      "source": [
        "def convolution2D_backward_input(out_grad, X, W, stride):\n",
        "    \"\"\"\n",
        "    A implementation of the backward pass for a convolutional layer.\n",
        "    \n",
        "    inputs:\n",
        "     - out_grad  : gradient of the Loss with respect to the output of the conv layer with shape (N, F, OW, OH)\n",
        "     - X : input data of shape (N, C, IH, IW)\n",
        "     - W : Filter weight of shape (F, C, FH, FW)\n",
        "     - stride : a list of [sh, sw]\n",
        "     \n",
        "    return:\n",
        "     - dX : Gradient with respect to X\n",
        "    \n",
        "    \"\"\"\n",
        "        \n",
        "    dX = None\n",
        "    ###########################################################################\n",
        "    # Implement the convolutional backward pass.                              #\n",
        "    ###########################################################################\n",
        "    pass\n",
        "\n",
        "    [N,C,ih,iw] = X.shape\n",
        "    [F,C,fh,fw] = W.shape\n",
        "    [N,F,Oh,Ow] = out_grad.shape\n",
        "\n",
        "    sh = stride[0]\n",
        "    sw = stride[1]\n",
        "\n",
        "    dX = np.zeros(X.shape)\n",
        "    \n",
        "    for b in range(N):\n",
        "      for f in range(F):\n",
        "        for i in range(0,ih,sh):\n",
        "          for j in range(0,iw,sw):\n",
        "            dX[b,:,i:i+fh,j:j+fw] += out_grad[b,f,int(i/sh),int(j/sw)]*W[f,:,:,:]\n",
        "\n",
        "    ###########################################################################\n",
        "    #                             END OF YOUR CODE                            #\n",
        "    ###########################################################################\n",
        "    \n",
        "    return dX\n",
        "    "
      ],
      "execution_count": null,
      "outputs": []
    },
    {
      "cell_type": "code",
      "metadata": {
        "id": "VJwwMZqInPOE",
        "colab": {
          "base_uri": "https://localhost:8080/"
        },
        "outputId": "1ab1b47e-ed4e-4b6b-9c1b-3423916bd149"
      },
      "source": [
        "np.random.seed(1992)\n",
        "\n",
        "param = {'X':np.random.rand(5, 3, 6, 6), 'W':np.random.rand(2, 3, 2, 2), 'stride':(3,3)}\n",
        "grad = np.ones((5, 2, 2, 2))\n",
        "dx = convolution2D_backward_input(grad, **param)\n",
        "\n",
        "w = tf.Variable(tf.transpose(param['W'], (2, 3, 1, 0)), name='v')\n",
        "x = tf.Variable(tf.transpose(param['X'], [0, 2, 3, 1]), name='x')\n",
        "c = tf.nn.conv2d(x, w, [1,3,3,1], 'VALID')\n",
        "loss = tf.reduce_sum(c)\n",
        "g = tf.gradients(loss, x)\n",
        "with tf.Session() as sess:\n",
        "    sess.run(tf.global_variables_initializer())\n",
        "    dx_tf = sess.run(g)\n",
        "dx = np.transpose(dx, (0, 2, 3, 1))\n",
        "\n",
        "\n",
        "\n",
        "assert dx.shape==dx_tf[0].shape\n",
        "print(\"Error is :\", np.sum((dx-dx_tf[0])**2))\n",
        "print(\"dX_tf is :\", np.sum(dx_tf[0]))\n",
        "print(\"dX is :\", np.sum(dx))"
      ],
      "execution_count": null,
      "outputs": [
        {
          "output_type": "stream",
          "text": [
            "Error is : 0.0\n",
            "dX_tf is : 208.39287018595633\n",
            "dX is : 208.39287018595633\n"
          ],
          "name": "stdout"
        }
      ]
    },
    {
      "cell_type": "markdown",
      "metadata": {
        "id": "kmIIdIwqnPOL"
      },
      "source": [
        "** Expected Output: **\n",
        "<table>\n",
        "    <tr>\n",
        "        <td>\n",
        "            **dX_tf**\n",
        "        </td>\n",
        "        <td>\n",
        "            208.39287018595633\n",
        "        </td>\n",
        "    </tr>\n",
        "    <tr>\n",
        "        <td>\n",
        "            **dX**\n",
        "        </td>\n",
        "        <td>\n",
        "            208.39287018595633\n",
        "        </td>\n",
        "    </tr>\n",
        "    <tr>\n",
        "        <td>\n",
        "            **Error**\n",
        "        </td>\n",
        "        <td>\n",
        "            0.0\n",
        " </td>\n",
        "    </tr>\n",
        "\n",
        "</table>\n"
      ]
    },
    {
      "cell_type": "markdown",
      "metadata": {
        "id": "01DiIHblnPOO"
      },
      "source": [
        "## 4.Pooling"
      ]
    },
    {
      "cell_type": "markdown",
      "metadata": {
        "id": "0s_-ssYznPOQ"
      },
      "source": [
        "### 4.1 - forward max pooling (3 pts.)"
      ]
    },
    {
      "cell_type": "markdown",
      "metadata": {
        "id": "Zuq2YNg1nPOS"
      },
      "source": [
        "The pooling layer reduces the height and width of the input. It helps reduce computation"
      ]
    },
    {
      "cell_type": "markdown",
      "metadata": {
        "id": "f_SFsAmLnPOV"
      },
      "source": [
        " - Max-pooling layer: slides an ($f, f$) window with stride $s$ over the input and stores the max value of the window in the output.\n",
        "\n",
        "in function below X is input and shape of X is $(N, C, i_h, i_w)$  and output is shape $(N, C, O_h, O_w)$ that :\n",
        "\n",
        " $$O_h =\\lfloor\\frac{i_h - f }{s}\\rfloor + 1$$\n",
        " $$O_w =\\lfloor\\frac{i_w - f }{s}\\rfloor + 1$$"
      ]
    },
    {
      "cell_type": "markdown",
      "metadata": {
        "id": "GEYR4RCNnPOX"
      },
      "source": [
        "**Exercise**: Implement the forward pass of the pooling layer\n"
      ]
    },
    {
      "cell_type": "code",
      "metadata": {
        "id": "VaWcSaPKnPOZ"
      },
      "source": [
        "def pool_forward(X, f, s):\n",
        "    \"\"\"\n",
        "    Implements the forward pass of the pooling layer\n",
        "    \n",
        "    input:\n",
        "       - X : numpy array of shape (N, C, IH, IW)\n",
        "       - f : int, filter size in height and width dim\n",
        "       - s : int\n",
        "    \n",
        "    Returns:\n",
        "       - pool : output of the pool layer, a numpy array of shape (N, C, OH, OW) where OH and OW given by\n",
        "       \n",
        "       OH = 1 + int((IH - f)/s)\n",
        "       OW = 1 + int((IW - f)/s)\n",
        "    \n",
        "    \"\"\"\n",
        "    ###########################################################################\n",
        "    #  Implement the max pooling forward pass.                                #\n",
        "    ###########################################################################\n",
        "    pass\n",
        "\n",
        "    [N,C,ih,iw] = X.shape\n",
        "    Oh= 1 + int ((ih-f)/s)\n",
        "    Ow= 1 + int ((iw-f)/s)\n",
        "    pool = np.zeros((N,C,Oh,Ow))\n",
        "\n",
        "    for b in range(N):\n",
        "      for m in range(C):\n",
        "        for i in range(Oh):\n",
        "          for j in range(Ow):\n",
        "            pool[b,m,i,j] = np.max(X[b,m,s*i:s*i+f,s*j:s*j+f]))\n",
        "    ###########################################################################\n",
        "    #                             END OF YOUR CODE                            #\n",
        "    ###########################################################################\n",
        "    \n",
        "    return pool\n",
        "    \n",
        "    "
      ],
      "execution_count": null,
      "outputs": []
    },
    {
      "cell_type": "code",
      "metadata": {
        "id": "JtN8FqAlnPOj",
        "colab": {
          "base_uri": "https://localhost:8080/"
        },
        "outputId": "c935d919-02cc-4105-d797-8fceec9c2465"
      },
      "source": [
        "np.random.seed(1975)\n",
        "x=np.random.rand(2,3,23,23)\n",
        "\n",
        "hyper_param={\"f\":2, \"s\" :11}\n",
        "c=pool_forward(x,**hyper_param)\n",
        "\n",
        "pool_tf = tf.nn.max_pool(tf.transpose(x,(0,2,3,1)),[1,2,2,1],[1,11,11,1],'VALID') ## tensorflow api\n",
        "\n",
        "with tf.Session() as sess:\n",
        "    pool_tf =sess.run(pool_tf)\n",
        "    \n",
        "pool_tf=np.transpose(pool_tf, (0,3,1,2))\n",
        "\n",
        "assert c.shape==pool_tf.shape\n",
        "assert (c==pool_tf).all()\n",
        "print(\"your implementation is correct\")\n",
        "print(\"output shape :\", c.shape)\n",
        "print(\"output :\", c)\n",
        "print(\"Error :\" ,np.sum((c-pool_tf)**2))\n"
      ],
      "execution_count": null,
      "outputs": [
        {
          "output_type": "stream",
          "text": [
            "your implementation is correct\n",
            "output shape : (2, 3, 2, 2)\n",
            "output : [[[[0.46800661 0.6818562 ]\n",
            "   [0.95191188 0.58676102]]\n",
            "\n",
            "  [[0.6288546  0.99632119]\n",
            "   [0.80094484 0.96251272]]\n",
            "\n",
            "  [[0.67012954 0.80356619]\n",
            "   [0.91517917 0.83174796]]]\n",
            "\n",
            "\n",
            " [[[0.80458243 0.97712759]\n",
            "   [0.91272943 0.86171778]]\n",
            "\n",
            "  [[0.8827965  0.95316097]\n",
            "   [0.95877647 0.98136021]]\n",
            "\n",
            "  [[0.96840121 0.87088313]\n",
            "   [0.70449495 0.89625081]]]]\n",
            "Error : 0.0\n"
          ],
          "name": "stdout"
        }
      ]
    },
    {
      "cell_type": "markdown",
      "metadata": {
        "id": "hr0tWI2qnPOp"
      },
      "source": [
        "** Expected Output: **\n",
        "<table>\n",
        "    <tr>\n",
        "        <td>\n",
        "            **Error**\n",
        "        </td>\n",
        "        <td>\n",
        "            0.0\n",
        "        </td>\n",
        "    </tr>\n",
        "    <tr>\n",
        "        <td>\n",
        "            **output shape **\n",
        "        </td>\n",
        "        <td>\n",
        "            (2, 3, 2, 2)\n",
        "        </td>\n",
        "    </tr>\n",
        "\n",
        "\n",
        "</table>\n"
      ]
    },
    {
      "cell_type": "markdown",
      "metadata": {
        "id": "SRCZdRWinPOr"
      },
      "source": [
        "### 4.2 - backward max pooling (3 pts.)"
      ]
    },
    {
      "cell_type": "markdown",
      "metadata": {
        "id": "FN1kDBVhnPOt"
      },
      "source": [
        "**Exercise**  :implement the backward pass for the pooling layer. Even though a pooling layer has no parameters for backprop to update, you still need to backpropagation the gradient through the pooling layer in order to compute gradients for layers that came before the pooling layer. \n"
      ]
    },
    {
      "cell_type": "code",
      "metadata": {
        "id": "hpSvOKFWnPOy"
      },
      "source": [
        "def pool_back(grad_pool, X, f, s):\n",
        "    \"\"\"\n",
        "    Implements the backward pass of the pooling layer\n",
        "    \n",
        "    Arguments:\n",
        "       - grad_pool : gradient of cost with respect to the output of the pooling layer\n",
        "       - X : input to pooling layer , numpy array with shape (N, C, IH, IW)\n",
        "       - f : int, filter size in height and width dim\n",
        "       - s :  int\n",
        "    Returns:\n",
        "       - dX_pool  : gradient of cost with respect to the input of the pooling layer, same shape as X\n",
        "    \"\"\"\n",
        "    ###########################################################################\n",
        "    # Implement the max pooling backward pass.                               #\n",
        "    ###########################################################################\n",
        "    pass\n",
        "    ###########################################################################\n",
        "    #                             END OF YOUR CODE                            #\n",
        "    ###########################################################################\n",
        "    [N,C,ih,iw] = X.shape\n",
        "    [N,C,Oh,Ow] = grad_pool.shape\n",
        "    dX_pool = np.zeros(X.shape)\n",
        "\n",
        "    H= 1 + int ((ih-f)/s)\n",
        "    W= 1 + int ((iw-f)/s)\n",
        "\n",
        "    for b in range(N):\n",
        "      for m in range(C):\n",
        "        for i in range(Oh):\n",
        "          for j in range(Ow):\n",
        "            x_pool = X[b,m,i*s:i*s+H,j*s:j*s+W]\n",
        "            mask = (x_pool== np.max(x_pool))\n",
        "            dX_pool[b,m,i*s:i*s+H,j*s:j*s+W] = mask*grad_pool[b,m,i,j]\n",
        "    \n",
        "    return dX_pool\n",
        "    "
      ],
      "execution_count": null,
      "outputs": []
    },
    {
      "cell_type": "code",
      "metadata": {
        "id": "1uBU0WeUnPO3",
        "colab": {
          "base_uri": "https://localhost:8080/"
        },
        "outputId": "e446ebe0-1f06-4f2a-fba9-befc310e8079"
      },
      "source": [
        "np.random.seed(19)\n",
        "X=np.random.rand(2,3,10,10)\n",
        "g=np.random.rand(2,3,9,9)\n",
        "\n",
        "f=2\n",
        "s=1\n",
        "dX=pool_back(g, X, f, s)\n",
        "\n",
        "print(\"mean of dX :\",np.mean(dX))\n",
        "print(\"dX[1,2,2:5,2:5] = \",dX[1,2,2:5,2:5])\n",
        "\n"
      ],
      "execution_count": null,
      "outputs": [
        {
          "output_type": "stream",
          "text": [
            "mean of dX : 0.03633929129634521\n",
            "dX[1,2,2:5,2:5] =  [[0.         0.         0.        ]\n",
            " [0.27722901 0.         0.        ]\n",
            " [0.         0.         0.        ]]\n"
          ],
          "name": "stdout"
        }
      ]
    },
    {
      "cell_type": "markdown",
      "metadata": {
        "id": "0qOjFOKonPO-"
      },
      "source": [
        "**Expected Output**: \n",
        "\n",
        "<table> \n",
        "<tr> \n",
        "<td>\n",
        "\n",
        "**mean of dX =**\n",
        "</td>\n",
        "\n",
        "<td>\n",
        "\n",
        "0.4074887549535014\n",
        "  </td>\n",
        "</tr>\n",
        "\n",
        "<tr> \n",
        "<td>\n",
        "**dX[1,2,2:5,2:5] =** \n",
        "</td>\n",
        "<td>\n",
        "[[0. 0. 1.20296614]\n",
        "[2.18908689 0. 2.12049676]\n",
        "[0. 1.14564779 0. ]]\n",
        "\n",
        "</td>\n",
        "</tr>\n",
        "</table>\n",
        "\n"
      ]
    },
    {
      "cell_type": "markdown",
      "metadata": {
        "id": "SbjFV9EwnPPA"
      },
      "source": [
        "### 5. Batch Normalization in CNN (Optional)(bonus grade)(10 pts.)"
      ]
    },
    {
      "cell_type": "markdown",
      "metadata": {
        "id": "XewKYMkHnPPC"
      },
      "source": [
        "### 5.1 - BN forward (5 pts.)"
      ]
    },
    {
      "cell_type": "markdown",
      "metadata": {
        "id": "Z2AYHTmcnPPD"
      },
      "source": [
        "A family of feature normalization methods, including BN(Batch Normalization), LN(Layer Normalization), perform the following computation:\n",
        "$$\\hat{x_i} = \\frac{1}{\\sigma_i} (x_i - \\mu_i)$$\n",
        "\n",
        "Here $x$ is the feature computed by a layer, and $i$ is an index.In the case of 2D images, $i = (i_N , i_C , i_H , i_W )$ is a 4D vector indexing the features in $(N, C, H, W )$ order, where $N$ is the batch axis, $C$ is the channel axis, and $H$ and $W$ are the spatial height and width axes.\n",
        "\n",
        "$μ$ and $\\sigma$ in  are the mean and standard deviation (std) computed by :\n",
        "\n",
        "$$μ_i = \\frac{1}{m}\\sum_{k \\in S_i} x_i $$\n",
        "\n",
        "$$\\sigma_i = \\sqrt{\\frac{1}{m}\\sum_{k \\in S_i}(x_k - μ_i)^2 + \\epsilon}$$\n",
        "\n",
        "$S_i$ is the set of pixels in which\n",
        "the mean and std are computed, and m is the size of this set.\n",
        "In **Batch Norm** the set $S_i$  is defined as : \n",
        "$$S_i = \\left\\{k | k_C = i_C \\right\\}$$\n",
        "\n",
        "the pixels sharing the same channel index are normalized together, i.e., for each channel, BN computes $\\mu$ and $\\sigma$ along the $(N, H, W )$ axes "
      ]
    },
    {
      "cell_type": "code",
      "metadata": {
        "id": "FuB8ippfnPPF"
      },
      "source": [
        "def batch_norm_forward(X, gamma, beta):\n",
        "    \n",
        "    \"\"\"\n",
        "    Computes the forward pass for spatial batch normalization.\n",
        " \n",
        "    Inputs:\n",
        "    - X: Input data of shape (N, C, H, W)\n",
        "    - gamma: Scale parameter, of shape (C,)\n",
        "    - beta: Shift parameter, of shape (C,)\n",
        "    \n",
        "    Returns:\n",
        "    - BN: Output data, of shape (N, C, H, W)\n",
        "    \"\"\"\n",
        "    BN =None\n",
        "    ###########################################################################\n",
        "    # Implement the forward pass for spatial batch normalization              #\n",
        "    ###########################################################################\n",
        "    pass\n",
        "  \n",
        "    \n",
        "    eps =1e-4\n",
        "    [N,C,ih,iw] = X.shape\n",
        "    BN = np.zeros((N,C,ih,iw))\n",
        "\n",
        "    for c in range(C):\n",
        "        x = X[:,c,:,:]\n",
        "        mean = 1/float(N)*np.sum(x,axis=0)\n",
        "        variance = 1/float(N)*np.sum((x - mean)**2,axis=0)\n",
        "        sqrtvar= np.sqrt(variance+eps)\n",
        "        varInverse = 1./sqrtvar\n",
        "        std = (x - mean) * varInverse\n",
        "        finalVar = gamma[c,]*std\n",
        "        BN[:,c,:,:]=finalVar+beta[c,]\n",
        " \n",
        "    ###########################################################################\n",
        "    #                             END OF YOUR CODE                            #\n",
        "    ###########################################################################\n",
        "    \n",
        "    return BN"
      ],
      "execution_count": null,
      "outputs": []
    },
    {
      "cell_type": "code",
      "metadata": {
        "id": "-_GOlpj1nPPK",
        "colab": {
          "base_uri": "https://localhost:8080/"
        },
        "outputId": "63ebbca4-d962-4b32-acba-ab8c1200be12"
      },
      "source": [
        "np.random.seed(231)\n",
        "\n",
        "N, C, H, W = 2, 3, 4, 5\n",
        "X = 4 * np.random.randn(N, C, H, W) + 10\n",
        "\n",
        "print('Before spatial batch normalization:')\n",
        "print('  Shape: ', X.shape)\n",
        "print('  Means: ', X.mean(axis=(0, 2, 3)))\n",
        "print('  Stds: ', X.std(axis=(0, 2, 3)))\n",
        "\n",
        "# Means should be close to zero and stds close to one\n",
        "gamma, beta = np.ones(C), np.zeros(C)\n",
        "out= batch_norm_forward(X, gamma, beta)\n",
        "print('After spatial batch normalization:')\n",
        "print('  Shape: ', out.shape)\n",
        "print('  Means: ', out.mean(axis=(0, 2, 3)))\n",
        "print('  Stds: ', out.std(axis=(0, 2, 3)))\n",
        "\n",
        "# Means should be close to beta and stds close to gamma\n",
        "gamma, beta = np.asarray([3, 4, 5]), np.asarray([6, 7, 8])\n",
        "out= batch_norm_forward(X, gamma, beta)\n",
        "print('After spatial batch normalization (nontrivial gamma, beta):')\n",
        "print('  Shape: ', out.shape)\n",
        "print('  Means: ', out.mean(axis=(0, 2, 3)))\n",
        "print('  Stds: ', out.std(axis=(0, 2, 3)))"
      ],
      "execution_count": null,
      "outputs": [
        {
          "output_type": "stream",
          "text": [
            "Before spatial batch normalization:\n",
            "  Shape:  (2, 3, 4, 5)\n",
            "  Means:  [9.33463814 8.90909116 9.11056338]\n",
            "  Stds:  [3.61447857 3.19347686 3.5168142 ]\n",
            "After spatial batch normalization:\n",
            "  Shape:  (2, 3, 4, 5)\n",
            "  Means:  [0.00000000e+00 3.10862447e-16 1.05471187e-16]\n",
            "  Stds:  [0.9998978  0.99879449 0.99995914]\n",
            "After spatial batch normalization (nontrivial gamma, beta):\n",
            "  Shape:  (2, 3, 4, 5)\n",
            "  Means:  [6. 7. 8.]\n",
            "  Stds:  [2.99969339 3.99517798 4.9997957 ]\n"
          ],
          "name": "stdout"
        }
      ]
    },
    {
      "cell_type": "markdown",
      "metadata": {
        "id": "Y8VfnIKGnPPQ"
      },
      "source": [
        "### 5.2 - BN Backward (5 pts.)"
      ]
    },
    {
      "cell_type": "code",
      "metadata": {
        "id": "5r_IylqknPPS"
      },
      "source": [
        "def batch_norm_backward(dout, X, gamma, beta):\n",
        "      \"\"\"\n",
        "      Computes the forward pass for spatial batch normalization.\n",
        "\n",
        "      Inputs:\n",
        "      - dout :\n",
        "      - X: Input data of shape (N, C, H, W)\n",
        "      - gamma: Scale parameter, of shape (C,)\n",
        "      - beta: Shift parameter, of shape (C,)\n",
        "      \n",
        "      Returns:\n",
        "      - dX: Output data, of shape (N, C, H, W)\n",
        "      \"\"\"\n",
        "      ###########################################################################\n",
        "      # Implement the backward pass for spatial batch normalization             #\n",
        "      ###########################################################################\n",
        "      ###########################################################################\n",
        "      #                             END OF YOUR CODE                            #\n",
        "      ###########################################################################\n",
        "      eps =1e-4\n",
        "      [N,C,ih,iw] = X.shape\n",
        "      BN = np.zeros((N,C,ih,iw))\n",
        "\n",
        "      for c in range(C):\n",
        "          x = X[:,c,:,:]\n",
        "          mean = 1/float(N)*np.sum(x,axis=0)\n",
        "          variance = 1/float(N)*np.sum((x - mean)**2,axis=0)\n",
        "          sqrtvar= np.sqrt(variance+eps)\n",
        "          varInverse = 1./sqrtvar\n",
        "          std = (x - mean) * varInverse\n",
        "          finalVar = gamma[c,]*std\n",
        "          BN[:,c,:,:]=finalVar+beta[c,]\n",
        "\n",
        "          dvarInverse = np.sum(dout * gamma[c,]*(x - mean), axis=0)\n",
        "          dsqrtvar = -1. /(sqrtvar**2) * dvarInverse\n",
        "          dvar = 0.5 * 1. /np.sqrt(variance+eps) * dsqrtvar\n",
        "          dxmu2 = 2 * (x - mean) * (1. /N * np.ones((N,C)) * dvar)\n",
        "          dmu = -1 * np.sum(dout * gamma[c,] * varInverse+dxmu2, axis=0)\n",
        "          dX = (dout * gamma[c,] * varInverse + dxmu2) + 1. /N * np.ones((N,C)) * dmu\n",
        "\n",
        "      return dX\n"
      ],
      "execution_count": null,
      "outputs": []
    }
  ]
}